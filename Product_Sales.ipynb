{
 "cells": [
  {
   "cell_type": "markdown",
   "metadata": {},
   "source": [
    "# Case study - Datacamp Professional Certificate\n",
    "\n",
    "\n",
    "In this pratical exam, I must act as a Data Analyst and perform an analysis for \"Pens and Printers\" based on the on the email below. It is expected a Written Report and a video presentation up to 10 minutes long. \n",
    "\n",
    "\n",
    "### Business Task\n",
    "<i>Hi,\n",
    "Really hoping you could help me out with some analysis. This is quite short notice but I have\n",
    "a meeting with the executive team to update them on sales approaches for the new\n",
    "product line so I need this information as soon as possible.\n",
    "\n",
    "We need to know:\n",
    "- How many customers were there for each approach?\n",
    "- What does the spread of the revenue look like overall? And for each method?\n",
    "- Was there any difference in revenue over time for each of the methods?\n",
    "- Based on the data, which method would you recommend we continue to use? Some\n",
    "of these methods take more time from the team so they may not be the best for us\n",
    "to use if the results are similar.\n",
    "We don’t really know if there are other differences between the customers in each group, so\n",
    "anything you can tell us would be really helpful to give some context to what went well.</i>\n",
    "\n",
    "### About Pens and Printers\n",
    "Pens and Printers was founded in 1984 and provides high quality office products to large\n",
    "organizations. We are a trusted provider of everything from pens and notebooks to desk\n",
    "chairs and monitors. We don’t produce our own products but sell those made by other\n",
    "companies.\n",
    "We have built long lasting relationships with our customers and they trust us to provide them\n",
    "with the best products for them. As the way in which consumers buy products is changing,\n",
    "our sales tactics have to change too. Launching a new product line is expensive and we need\n",
    "to make sure we are using the best techniques to sell the new product effectively. The best\n",
    "approach may vary for each new product so we need to learn quickly what works and what\n",
    "doesn’t.\n",
    "\n",
    "### New Product Sales Methods\n",
    "Six weeks ago we launched a new line of office stationery. Despite the world becoming\n",
    "increasingly digital, there is still demand for notebooks, pens and sticky notes.\n",
    "Our focus has been on selling products to enable our customers to be more creative, focused\n",
    "on tools for brainstorming. We have tested three different sales strategies for this, targeted\n",
    "email and phone calls, as well as combining the two.\n",
    "Email: Customers in this group received an email when the product line was launched, and a\n",
    "further email three weeks later. This required very little work for the team.\n",
    "Call: Customers in this group were called by a member of the sales team. On average\n",
    "members of the team were on the phone for around thirty minutes per customer.\n",
    "Email and call: Customers in this group were first sent the product information email, then\n",
    "called a week later by the sales team to talk about their needs and how this new product\n",
    "may support their work. The email required little work from the team, the call was around ten\n",
    "minutes per customer"
   ]
  },
  {
   "cell_type": "markdown",
   "metadata": {},
   "source": [
    "Since the data is in a single .csv file, let's import it to assess the data's integrity"
   ]
  },
  {
   "cell_type": "code",
   "execution_count": 1,
   "metadata": {},
   "outputs": [
    {
     "data": {
      "text/html": [
       "<div>\n",
       "<style scoped>\n",
       "    .dataframe tbody tr th:only-of-type {\n",
       "        vertical-align: middle;\n",
       "    }\n",
       "\n",
       "    .dataframe tbody tr th {\n",
       "        vertical-align: top;\n",
       "    }\n",
       "\n",
       "    .dataframe thead th {\n",
       "        text-align: right;\n",
       "    }\n",
       "</style>\n",
       "<table border=\"1\" class=\"dataframe\">\n",
       "  <thead>\n",
       "    <tr style=\"text-align: right;\">\n",
       "      <th></th>\n",
       "      <th>week</th>\n",
       "      <th>sales_method</th>\n",
       "      <th>customer_id</th>\n",
       "      <th>nb_sold</th>\n",
       "      <th>revenue</th>\n",
       "      <th>years_as_customer</th>\n",
       "      <th>nb_site_visits</th>\n",
       "      <th>state</th>\n",
       "    </tr>\n",
       "  </thead>\n",
       "  <tbody>\n",
       "    <tr>\n",
       "      <th>10724</th>\n",
       "      <td>3</td>\n",
       "      <td>Email + Call</td>\n",
       "      <td>a3b30dac-122c-4900-9545-bf6ae2df6b59</td>\n",
       "      <td>10</td>\n",
       "      <td>152.62</td>\n",
       "      <td>2</td>\n",
       "      <td>25</td>\n",
       "      <td>Indiana</td>\n",
       "    </tr>\n",
       "  </tbody>\n",
       "</table>\n",
       "</div>"
      ],
      "text/plain": [
       "       week  sales_method                           customer_id  nb_sold  \\\n",
       "10724     3  Email + Call  a3b30dac-122c-4900-9545-bf6ae2df6b59       10   \n",
       "\n",
       "       revenue  years_as_customer  nb_site_visits    state  \n",
       "10724   152.62                  2              25  Indiana  "
      ]
     },
     "execution_count": 1,
     "metadata": {},
     "output_type": "execute_result"
    }
   ],
   "source": [
    "import pandas as pd \n",
    "#read the file using pandas and assign it into a variable\n",
    "df = pd.read_csv(\"product_sales.csv\", sep=\",\")\n",
    "df.sample()"
   ]
  },
  {
   "cell_type": "code",
   "execution_count": 2,
   "metadata": {},
   "outputs": [
    {
     "data": {
      "text/plain": [
       "(15000, 8)"
      ]
     },
     "execution_count": 2,
     "metadata": {},
     "output_type": "execute_result"
    }
   ],
   "source": [
    "#Get the shape of the dataframe\n",
    "df.shape"
   ]
  },
  {
   "cell_type": "markdown",
   "metadata": {},
   "source": [
    "### **Data's integrity**\n",
    "\n",
    "Before cleaning the data, we must assess the consistency/integrity of the data. To do so, we will check for:\n",
    "1. Missing Values\n",
    "2. Check for Duplicates\n",
    "3. Validate Data Types \n",
    "4. Assess Data Consistency\n",
    "5. Validate Referential Integrity\n",
    "6. Examine Statistical Summaries\n",
    "7. Check for Data Anomalies or Outliers\n"
   ]
  },
  {
   "cell_type": "code",
   "execution_count": 3,
   "metadata": {},
   "outputs": [
    {
     "name": "stdout",
     "output_type": "stream",
     "text": [
      "week                    0\n",
      "sales_method            0\n",
      "customer_id             0\n",
      "nb_sold                 0\n",
      "revenue              1074\n",
      "years_as_customer       0\n",
      "nb_site_visits          0\n",
      "state                   0\n",
      "dtype: int64\n"
     ]
    }
   ],
   "source": [
    "#1 Checking for missing values\n",
    "missing_values = df.isnull().sum()\n",
    "print(missing_values)"
   ]
  },
  {
   "cell_type": "markdown",
   "metadata": {},
   "source": [
    "We can see that the \"revenue\" columns contain more than one thousand rows that were not populated. Since this is an important column and will not be dropped, it's important to check it more in detail to decide what to do next. "
   ]
  },
  {
   "cell_type": "code",
   "execution_count": 4,
   "metadata": {},
   "outputs": [
    {
     "data": {
      "text/html": [
       "<div>\n",
       "<style scoped>\n",
       "    .dataframe tbody tr th:only-of-type {\n",
       "        vertical-align: middle;\n",
       "    }\n",
       "\n",
       "    .dataframe tbody tr th {\n",
       "        vertical-align: top;\n",
       "    }\n",
       "\n",
       "    .dataframe thead th {\n",
       "        text-align: right;\n",
       "    }\n",
       "</style>\n",
       "<table border=\"1\" class=\"dataframe\">\n",
       "  <thead>\n",
       "    <tr style=\"text-align: right;\">\n",
       "      <th></th>\n",
       "      <th>week</th>\n",
       "      <th>sales_method</th>\n",
       "      <th>customer_id</th>\n",
       "      <th>nb_sold</th>\n",
       "      <th>revenue</th>\n",
       "      <th>years_as_customer</th>\n",
       "      <th>nb_site_visits</th>\n",
       "      <th>state</th>\n",
       "    </tr>\n",
       "  </thead>\n",
       "  <tbody>\n",
       "    <tr>\n",
       "      <th>7982</th>\n",
       "      <td>2</td>\n",
       "      <td>Email</td>\n",
       "      <td>f2d9cdda-c729-4750-92e3-a795ccfc99fb</td>\n",
       "      <td>10</td>\n",
       "      <td>NaN</td>\n",
       "      <td>6</td>\n",
       "      <td>27</td>\n",
       "      <td>Illinois</td>\n",
       "    </tr>\n",
       "    <tr>\n",
       "      <th>10209</th>\n",
       "      <td>1</td>\n",
       "      <td>Email + Call</td>\n",
       "      <td>f8ebbf5a-d93c-491a-8213-b9caa4519180</td>\n",
       "      <td>9</td>\n",
       "      <td>NaN</td>\n",
       "      <td>9</td>\n",
       "      <td>24</td>\n",
       "      <td>Ohio</td>\n",
       "    </tr>\n",
       "    <tr>\n",
       "      <th>11867</th>\n",
       "      <td>3</td>\n",
       "      <td>Email</td>\n",
       "      <td>195c2778-26d6-4f31-a057-15a724f36198</td>\n",
       "      <td>10</td>\n",
       "      <td>NaN</td>\n",
       "      <td>2</td>\n",
       "      <td>25</td>\n",
       "      <td>Mississippi</td>\n",
       "    </tr>\n",
       "    <tr>\n",
       "      <th>11753</th>\n",
       "      <td>5</td>\n",
       "      <td>Email</td>\n",
       "      <td>c842d409-7143-4b04-9daf-226d8d55c453</td>\n",
       "      <td>10</td>\n",
       "      <td>NaN</td>\n",
       "      <td>7</td>\n",
       "      <td>22</td>\n",
       "      <td>California</td>\n",
       "    </tr>\n",
       "    <tr>\n",
       "      <th>14527</th>\n",
       "      <td>5</td>\n",
       "      <td>Email + Call</td>\n",
       "      <td>d0f42f8b-92a4-4860-b035-e167ff9422ad</td>\n",
       "      <td>12</td>\n",
       "      <td>NaN</td>\n",
       "      <td>1</td>\n",
       "      <td>29</td>\n",
       "      <td>Maryland</td>\n",
       "    </tr>\n",
       "    <tr>\n",
       "      <th>8471</th>\n",
       "      <td>1</td>\n",
       "      <td>Email</td>\n",
       "      <td>4b45b7ca-96e4-4536-8746-1d5467b0bdb4</td>\n",
       "      <td>9</td>\n",
       "      <td>NaN</td>\n",
       "      <td>2</td>\n",
       "      <td>31</td>\n",
       "      <td>Missouri</td>\n",
       "    </tr>\n",
       "    <tr>\n",
       "      <th>5435</th>\n",
       "      <td>1</td>\n",
       "      <td>Call</td>\n",
       "      <td>deb6fd0a-afdd-4611-b4b3-71da005ec15c</td>\n",
       "      <td>7</td>\n",
       "      <td>NaN</td>\n",
       "      <td>2</td>\n",
       "      <td>17</td>\n",
       "      <td>California</td>\n",
       "    </tr>\n",
       "    <tr>\n",
       "      <th>6539</th>\n",
       "      <td>2</td>\n",
       "      <td>Email</td>\n",
       "      <td>eae94bc8-5b3c-46c4-80bc-d35d72671585</td>\n",
       "      <td>10</td>\n",
       "      <td>NaN</td>\n",
       "      <td>2</td>\n",
       "      <td>24</td>\n",
       "      <td>New Hampshire</td>\n",
       "    </tr>\n",
       "    <tr>\n",
       "      <th>10935</th>\n",
       "      <td>4</td>\n",
       "      <td>Email</td>\n",
       "      <td>87ab3372-6236-466c-bd20-4acafec5ae9b</td>\n",
       "      <td>11</td>\n",
       "      <td>NaN</td>\n",
       "      <td>1</td>\n",
       "      <td>29</td>\n",
       "      <td>Michigan</td>\n",
       "    </tr>\n",
       "    <tr>\n",
       "      <th>806</th>\n",
       "      <td>5</td>\n",
       "      <td>Call</td>\n",
       "      <td>76b273d4-a2e9-4f94-93c8-4cfef2d97581</td>\n",
       "      <td>11</td>\n",
       "      <td>NaN</td>\n",
       "      <td>2</td>\n",
       "      <td>21</td>\n",
       "      <td>Tennessee</td>\n",
       "    </tr>\n",
       "  </tbody>\n",
       "</table>\n",
       "</div>"
      ],
      "text/plain": [
       "       week  sales_method                           customer_id  nb_sold  \\\n",
       "7982      2         Email  f2d9cdda-c729-4750-92e3-a795ccfc99fb       10   \n",
       "10209     1  Email + Call  f8ebbf5a-d93c-491a-8213-b9caa4519180        9   \n",
       "11867     3         Email  195c2778-26d6-4f31-a057-15a724f36198       10   \n",
       "11753     5         Email  c842d409-7143-4b04-9daf-226d8d55c453       10   \n",
       "14527     5  Email + Call  d0f42f8b-92a4-4860-b035-e167ff9422ad       12   \n",
       "8471      1         Email  4b45b7ca-96e4-4536-8746-1d5467b0bdb4        9   \n",
       "5435      1          Call  deb6fd0a-afdd-4611-b4b3-71da005ec15c        7   \n",
       "6539      2         Email  eae94bc8-5b3c-46c4-80bc-d35d72671585       10   \n",
       "10935     4         Email  87ab3372-6236-466c-bd20-4acafec5ae9b       11   \n",
       "806       5          Call  76b273d4-a2e9-4f94-93c8-4cfef2d97581       11   \n",
       "\n",
       "       revenue  years_as_customer  nb_site_visits          state  \n",
       "7982       NaN                  6              27       Illinois  \n",
       "10209      NaN                  9              24           Ohio  \n",
       "11867      NaN                  2              25    Mississippi  \n",
       "11753      NaN                  7              22     California  \n",
       "14527      NaN                  1              29       Maryland  \n",
       "8471       NaN                  2              31       Missouri  \n",
       "5435       NaN                  2              17     California  \n",
       "6539       NaN                  2              24  New Hampshire  \n",
       "10935      NaN                  1              29       Michigan  \n",
       "806        NaN                  2              21      Tennessee  "
      ]
     },
     "execution_count": 4,
     "metadata": {},
     "output_type": "execute_result"
    }
   ],
   "source": [
    "revenue_missing = df['revenue'].isnull()\n",
    "#Filtering the missing values from the 'revenue' column \n",
    "df_missing = df[revenue_missing]\n",
    "df_missing.sample(10)"
   ]
  },
  {
   "cell_type": "markdown",
   "metadata": {},
   "source": [
    "Let's see if the missing values grouping by sales_method\n",
    "\n"
   ]
  },
  {
   "cell_type": "code",
   "execution_count": 5,
   "metadata": {},
   "outputs": [
    {
     "data": {
      "text/plain": [
       "sales_method\n",
       "Call            181\n",
       "Email           541\n",
       "Email + Call    346\n",
       "em + call         3\n",
       "email             3\n",
       "dtype: int64"
      ]
     },
     "execution_count": 5,
     "metadata": {},
     "output_type": "execute_result"
    }
   ],
   "source": [
    "#Grouping the missing values by 'sales_method' \n",
    "df_missing.groupby('sales_method').size()"
   ]
  },
  {
   "cell_type": "code",
   "execution_count": 6,
   "metadata": {},
   "outputs": [
    {
     "name": "stdout",
     "output_type": "stream",
     "text": [
      "Proportion of missing values in 'call' sales method: 0.04\n",
      "Proportion of missing values in 'email' sales method: 0.07\n",
      "Proportion of missing values in 'email + call' sales method: 0.14\n"
     ]
    }
   ],
   "source": [
    "#Let's calculate the proportion of missing values in each sales method\n",
    "\n",
    "call_prop =  round(df_missing[df_missing['sales_method'] == 'Call'].shape[0] / df[df['sales_method'] == 'Call'].shape[0], 2)\n",
    "email_prop =  round(df_missing[df_missing['sales_method'] == 'Email'].shape[0] / df[df['sales_method'] == 'Email'].shape[0],2)\n",
    "email_call_prop =  round(df_missing[df_missing['sales_method'] == 'Email + Call'].shape[0] / df[df['sales_method'] == 'Email + Call'].shape[0],2)\n",
    "\n",
    "print(f\"Proportion of missing values in 'call' sales method: {call_prop}\")\n",
    "print(f\"Proportion of missing values in 'email' sales method: {email_prop}\")\n",
    "print(f\"Proportion of missing values in 'email + call' sales method: {email_call_prop}\")"
   ]
  },
  {
   "cell_type": "markdown",
   "metadata": {},
   "source": [
    "Since the proportion of missing values if not significant in each method, we can drop the rows with missing values on the 'Revenue' column "
   ]
  },
  {
   "cell_type": "code",
   "execution_count": 7,
   "metadata": {},
   "outputs": [
    {
     "name": "stdout",
     "output_type": "stream",
     "text": [
      "week                 0\n",
      "sales_method         0\n",
      "customer_id          0\n",
      "nb_sold              0\n",
      "revenue              0\n",
      "years_as_customer    0\n",
      "nb_site_visits       0\n",
      "state                0\n",
      "dtype: int64\n"
     ]
    }
   ],
   "source": [
    "#Dropping the missing values from the 'revenue' column\n",
    "df_clean = df.dropna(subset=['revenue'])\n",
    "#Checking again for missing values\n",
    "missing_values = df_clean.isnull().sum()\n",
    "print(missing_values)"
   ]
  },
  {
   "cell_type": "code",
   "execution_count": 8,
   "metadata": {},
   "outputs": [
    {
     "name": "stdout",
     "output_type": "stream",
     "text": [
      "Number of duplicates: 0\n"
     ]
    }
   ],
   "source": [
    "#2. Check for Duplicates\n",
    "duplicates = df_clean.duplicated().sum()\n",
    "print(f\"Number of duplicates: {duplicates}\")"
   ]
  },
  {
   "cell_type": "markdown",
   "metadata": {},
   "source": [
    "There are no duplicates on the dataframe. However, we could see if one customer is present more than once on the 'customer_id' column."
   ]
  },
  {
   "cell_type": "code",
   "execution_count": 9,
   "metadata": {},
   "outputs": [
    {
     "name": "stdout",
     "output_type": "stream",
     "text": [
      "Number of duplicates in 'customer_id' column: 0\n"
     ]
    }
   ],
   "source": [
    "#Checking for duplicates in the 'customer_id' column\n",
    "duplicates_customer_id = df_clean.duplicated(subset=['customer_id']).sum()\n",
    "print(f\"Number of duplicates in 'customer_id' column: {duplicates_customer_id}\")"
   ]
  },
  {
   "cell_type": "markdown",
   "metadata": {},
   "source": [
    "There is no duplicates whatsoever on the dataframe. "
   ]
  },
  {
   "cell_type": "code",
   "execution_count": 10,
   "metadata": {},
   "outputs": [
    {
     "data": {
      "text/plain": [
       "week                   int64\n",
       "sales_method          object\n",
       "customer_id           object\n",
       "nb_sold                int64\n",
       "revenue              float64\n",
       "years_as_customer      int64\n",
       "nb_site_visits         int64\n",
       "state                 object\n",
       "dtype: object"
      ]
     },
     "execution_count": 10,
     "metadata": {},
     "output_type": "execute_result"
    }
   ],
   "source": [
    "#3. Validate Data Types\n",
    "df_clean.dtypes \n"
   ]
  },
  {
   "cell_type": "code",
   "execution_count": 11,
   "metadata": {},
   "outputs": [
    {
     "data": {
      "text/html": [
       "<div>\n",
       "<style scoped>\n",
       "    .dataframe tbody tr th:only-of-type {\n",
       "        vertical-align: middle;\n",
       "    }\n",
       "\n",
       "    .dataframe tbody tr th {\n",
       "        vertical-align: top;\n",
       "    }\n",
       "\n",
       "    .dataframe thead th {\n",
       "        text-align: right;\n",
       "    }\n",
       "</style>\n",
       "<table border=\"1\" class=\"dataframe\">\n",
       "  <thead>\n",
       "    <tr style=\"text-align: right;\">\n",
       "      <th></th>\n",
       "      <th>week</th>\n",
       "      <th>sales_method</th>\n",
       "      <th>customer_id</th>\n",
       "      <th>nb_sold</th>\n",
       "      <th>revenue</th>\n",
       "      <th>years_as_customer</th>\n",
       "      <th>nb_site_visits</th>\n",
       "      <th>state</th>\n",
       "    </tr>\n",
       "  </thead>\n",
       "  <tbody>\n",
       "    <tr>\n",
       "      <th>5261</th>\n",
       "      <td>1</td>\n",
       "      <td>Email</td>\n",
       "      <td>9f13a98f-3b9a-44e0-a03a-367fed753c90</td>\n",
       "      <td>9</td>\n",
       "      <td>87.31</td>\n",
       "      <td>5</td>\n",
       "      <td>27</td>\n",
       "      <td>Arkansas</td>\n",
       "    </tr>\n",
       "  </tbody>\n",
       "</table>\n",
       "</div>"
      ],
      "text/plain": [
       "      week sales_method                           customer_id  nb_sold  \\\n",
       "5261     1        Email  9f13a98f-3b9a-44e0-a03a-367fed753c90        9   \n",
       "\n",
       "      revenue  years_as_customer  nb_site_visits     state  \n",
       "5261    87.31                  5              27  Arkansas  "
      ]
     },
     "execution_count": 11,
     "metadata": {},
     "output_type": "execute_result"
    }
   ],
   "source": [
    "df_clean.sample()"
   ]
  },
  {
   "cell_type": "markdown",
   "metadata": {},
   "source": [
    "Only 'sales_method' and 'state' column should be converted into 'string' types"
   ]
  },
  {
   "cell_type": "code",
   "execution_count": 12,
   "metadata": {},
   "outputs": [
    {
     "name": "stderr",
     "output_type": "stream",
     "text": [
      "<ipython-input-12-c55cd9ac09b5>:5: SettingWithCopyWarning: \n",
      "A value is trying to be set on a copy of a slice from a DataFrame.\n",
      "Try using .loc[row_indexer,col_indexer] = value instead\n",
      "\n",
      "See the caveats in the documentation: https://pandas.pydata.org/pandas-docs/stable/user_guide/indexing.html#returning-a-view-versus-a-copy\n",
      "  df_clean[col] = df_clean[col].astype('string')\n"
     ]
    },
    {
     "data": {
      "text/plain": [
       "week                   int64\n",
       "sales_method          string\n",
       "customer_id           object\n",
       "nb_sold                int64\n",
       "revenue              float64\n",
       "years_as_customer      int64\n",
       "nb_site_visits         int64\n",
       "state                 string\n",
       "dtype: object"
      ]
     },
     "execution_count": 12,
     "metadata": {},
     "output_type": "execute_result"
    }
   ],
   "source": [
    "#Converting 'Sales_method' and 'state'columns from object to string data type\n",
    "cols_to_convert = ['sales_method', 'state']\n",
    "\n",
    "for col in cols_to_convert:\n",
    "    df_clean[col] = df_clean[col].astype('string')  \n",
    "\n",
    "df_clean.dtypes"
   ]
  },
  {
   "cell_type": "code",
   "execution_count": 13,
   "metadata": {},
   "outputs": [
    {
     "data": {
      "text/plain": [
       "array([6, 5, 3, 4, 1, 2], dtype=int64)"
      ]
     },
     "execution_count": 13,
     "metadata": {},
     "output_type": "execute_result"
    }
   ],
   "source": [
    "#4. Assess Data Consistency\n",
    "#Checking for consistency in the 'week' column\n",
    "df_clean['week'].unique()"
   ]
  },
  {
   "cell_type": "code",
   "execution_count": 14,
   "metadata": {},
   "outputs": [
    {
     "data": {
      "text/plain": [
       "<StringArray>\n",
       "['Email + Call', 'Call', 'Email', 'em + call', 'email']\n",
       "Length: 5, dtype: string"
      ]
     },
     "execution_count": 14,
     "metadata": {},
     "output_type": "execute_result"
    }
   ],
   "source": [
    "#'Week' column has values ranging from 1 to 6. Let's check the number of unique values in the column 'sales_method'\n",
    "df_clean['sales_method'].unique()"
   ]
  },
  {
   "cell_type": "markdown",
   "metadata": {},
   "source": [
    "As we had already noted before, there's a problem of consistency in the 'sales_method' colum. Instead of 5 categories, we should reduce it to 3 by merging \"Email + Call' and 'em + call' also 'Email' and 'email'."
   ]
  },
  {
   "cell_type": "code",
   "execution_count": 15,
   "metadata": {},
   "outputs": [
    {
     "name": "stderr",
     "output_type": "stream",
     "text": [
      "<ipython-input-15-f51b7fca8ea5>:2: SettingWithCopyWarning: \n",
      "A value is trying to be set on a copy of a slice from a DataFrame.\n",
      "Try using .loc[row_indexer,col_indexer] = value instead\n",
      "\n",
      "See the caveats in the documentation: https://pandas.pydata.org/pandas-docs/stable/user_guide/indexing.html#returning-a-view-versus-a-copy\n",
      "  df_clean['sales_method'] = df_clean['sales_method'].replace({'em + call': 'Email + Call', 'email': 'Email'})\n"
     ]
    },
    {
     "data": {
      "text/plain": [
       "array(['Email + Call', 'Call', 'Email'], dtype=object)"
      ]
     },
     "execution_count": 15,
     "metadata": {},
     "output_type": "execute_result"
    }
   ],
   "source": [
    "#Fixing the data consistency issue in the 'sales_method' column by replacing 'em + call' with 'Email + Call' and also 'email' with 'Email'\n",
    "df_clean['sales_method'] = df_clean['sales_method'].replace({'em + call': 'Email + Call', 'email': 'Email'})\n",
    "df_clean['sales_method'].unique()"
   ]
  },
  {
   "cell_type": "code",
   "execution_count": 16,
   "metadata": {},
   "outputs": [
    {
     "name": "stdout",
     "output_type": "stream",
     "text": [
      "       week sales_method                           customer_id  nb_sold  \\\n",
      "13741     2        Email  18919515-a618-430c-9a05-2c7d8fea96af       10   \n",
      "13800     4         Call  2ea97d34-571d-4e1b-95be-fea1c404649f       10   \n",
      "\n",
      "       revenue  years_as_customer  nb_site_visits       state  \n",
      "13741    97.22                 63              24  California  \n",
      "13800    50.47                 47              27  California  \n"
     ]
    }
   ],
   "source": [
    "#'Sales_method' column has been fixed. Let's check the number of unique values in the 'years_as_customer' column. \n",
    "# Since Pen and Printers was founded in 1984, there shoudn't be any value less than 40. \n",
    "out_years = df_clean[df_clean['years_as_customer'] > 40]\n",
    "print(out_years)"
   ]
  },
  {
   "cell_type": "code",
   "execution_count": 17,
   "metadata": {},
   "outputs": [
    {
     "data": {
      "text/plain": [
       "array([ 1,  6,  0, 10,  9,  7,  4,  2, 20,  8,  5, 17, 36,  3, 15, 14, 19,\n",
       "       13, 12, 11, 30, 22, 18, 23, 32, 16, 39, 25, 33, 21, 31, 24, 27, 34,\n",
       "       28, 26, 29, 35, 38, 37], dtype=int64)"
      ]
     },
     "execution_count": 17,
     "metadata": {},
     "output_type": "execute_result"
    }
   ],
   "source": [
    "#Lets drop the two rows in the 'years_as_customer' column that have values greater than 40\n",
    "df_clean = df_clean[df_clean['years_as_customer'] <= 40]\n",
    "df_clean['years_as_customer'].unique()"
   ]
  },
  {
   "cell_type": "code",
   "execution_count": 18,
   "metadata": {},
   "outputs": [
    {
     "data": {
      "text/plain": [
       "<StringArray>\n",
       "[        'Kansas',      'Wisconsin',       'Illinois',    'Mississippi',\n",
       "        'Georgia',       'Oklahoma',  'Massachusetts',       'Missouri',\n",
       "          'Texas',       'New York',       'Maryland',     'California',\n",
       "      'Tennessee',   'North Dakota',        'Florida',       'Michigan',\n",
       " 'North Carolina',   'Pennsylvania',        'Indiana',         'Hawaii',\n",
       "       'Colorado',      'Louisiana',       'Virginia',       'Arkansas',\n",
       "         'Alaska',         'Oregon',  'New Hampshire',           'Ohio',\n",
       "     'New Jersey',    'Connecticut',           'Iowa',        'Montana',\n",
       "     'Washington',        'Arizona',       'Kentucky',        'Alabama',\n",
       "       'Nebraska', 'South Carolina',      'Minnesota',   'South Dakota',\n",
       "          'Maine',           'Utah',  'West Virginia',        'Vermont',\n",
       "     'New Mexico',   'Rhode Island',         'Nevada',       'Delaware',\n",
       "          'Idaho',        'Wyoming']\n",
       "Length: 50, dtype: string"
      ]
     },
     "execution_count": 18,
     "metadata": {},
     "output_type": "execute_result"
    }
   ],
   "source": [
    "#Let's check the number of unique values in the 'state' column\n",
    "df_clean['state'].unique()"
   ]
  },
  {
   "cell_type": "markdown",
   "metadata": {},
   "source": [
    "All 50 states from USA are included in the column 'state' with no duplicates of errors.\n",
    "Since there is no Referential Integrity to assess we can pass to the next step. "
   ]
  },
  {
   "cell_type": "code",
   "execution_count": 20,
   "metadata": {},
   "outputs": [
    {
     "data": {
      "text/html": [
       "<div>\n",
       "<style scoped>\n",
       "    .dataframe tbody tr th:only-of-type {\n",
       "        vertical-align: middle;\n",
       "    }\n",
       "\n",
       "    .dataframe tbody tr th {\n",
       "        vertical-align: top;\n",
       "    }\n",
       "\n",
       "    .dataframe thead th {\n",
       "        text-align: right;\n",
       "    }\n",
       "</style>\n",
       "<table border=\"1\" class=\"dataframe\">\n",
       "  <thead>\n",
       "    <tr style=\"text-align: right;\">\n",
       "      <th></th>\n",
       "      <th>week</th>\n",
       "      <th>nb_sold</th>\n",
       "      <th>revenue</th>\n",
       "      <th>years_as_customer</th>\n",
       "      <th>nb_site_visits</th>\n",
       "    </tr>\n",
       "  </thead>\n",
       "  <tbody>\n",
       "    <tr>\n",
       "      <th>count</th>\n",
       "      <td>13924.0</td>\n",
       "      <td>13924.0</td>\n",
       "      <td>13924.0</td>\n",
       "      <td>13924.0</td>\n",
       "      <td>13924.0</td>\n",
       "    </tr>\n",
       "    <tr>\n",
       "      <th>mean</th>\n",
       "      <td>3.1</td>\n",
       "      <td>10.0</td>\n",
       "      <td>93.9</td>\n",
       "      <td>5.0</td>\n",
       "      <td>24.9</td>\n",
       "    </tr>\n",
       "    <tr>\n",
       "      <th>std</th>\n",
       "      <td>1.7</td>\n",
       "      <td>1.8</td>\n",
       "      <td>47.4</td>\n",
       "      <td>5.0</td>\n",
       "      <td>3.5</td>\n",
       "    </tr>\n",
       "    <tr>\n",
       "      <th>min</th>\n",
       "      <td>1.0</td>\n",
       "      <td>7.0</td>\n",
       "      <td>32.5</td>\n",
       "      <td>0.0</td>\n",
       "      <td>12.0</td>\n",
       "    </tr>\n",
       "    <tr>\n",
       "      <th>25%</th>\n",
       "      <td>1.0</td>\n",
       "      <td>9.0</td>\n",
       "      <td>52.5</td>\n",
       "      <td>1.0</td>\n",
       "      <td>23.0</td>\n",
       "    </tr>\n",
       "    <tr>\n",
       "      <th>50%</th>\n",
       "      <td>3.0</td>\n",
       "      <td>10.0</td>\n",
       "      <td>89.5</td>\n",
       "      <td>3.0</td>\n",
       "      <td>25.0</td>\n",
       "    </tr>\n",
       "    <tr>\n",
       "      <th>75%</th>\n",
       "      <td>4.0</td>\n",
       "      <td>11.0</td>\n",
       "      <td>107.3</td>\n",
       "      <td>7.0</td>\n",
       "      <td>27.0</td>\n",
       "    </tr>\n",
       "    <tr>\n",
       "      <th>max</th>\n",
       "      <td>6.0</td>\n",
       "      <td>16.0</td>\n",
       "      <td>238.3</td>\n",
       "      <td>39.0</td>\n",
       "      <td>37.0</td>\n",
       "    </tr>\n",
       "  </tbody>\n",
       "</table>\n",
       "</div>"
      ],
      "text/plain": [
       "          week  nb_sold  revenue  years_as_customer  nb_site_visits\n",
       "count  13924.0  13924.0  13924.0            13924.0         13924.0\n",
       "mean       3.1     10.0     93.9                5.0            24.9\n",
       "std        1.7      1.8     47.4                5.0             3.5\n",
       "min        1.0      7.0     32.5                0.0            12.0\n",
       "25%        1.0      9.0     52.5                1.0            23.0\n",
       "50%        3.0     10.0     89.5                3.0            25.0\n",
       "75%        4.0     11.0    107.3                7.0            27.0\n",
       "max        6.0     16.0    238.3               39.0            37.0"
      ]
     },
     "execution_count": 20,
     "metadata": {},
     "output_type": "execute_result"
    }
   ],
   "source": [
    "#6. Examine Statistical Summaries\n",
    "round(df_clean.describe(), 1)"
   ]
  },
  {
   "cell_type": "markdown",
   "metadata": {},
   "source": [
    "By examining the statistical summaries, we can clearly see that the mean number of new products sold is 10, which is 7 as minimum and 16 as maximum. The minimum revenue from the sales are 32.5 dollars and the maximum is 238.3 dollars, having the mean revenue of sales at 93.9 dollars. We have customers that have been buying from Pen and Printers for 5 years in average, having new customers (less than 1 year) and really old customers (buying for 39 years, almost since the beginning of Pens and Printers). We see that the standard deviation for year as customers is equal to the mean, so we conclude that most of our customers is present for the past 5 years. On average, the customers visit Pen and Printers’ website almost 25 times, being the minimum of times 12 and the maximum of visits 37. "
   ]
  },
  {
   "cell_type": "code",
   "execution_count": 30,
   "metadata": {},
   "outputs": [
    {
     "data": {
      "image/png": "[encoded data removed]",
      "text/plain": [
       "<Figure size 432x288 with 1 Axes>"
      ]
     },
     "metadata": {},
     "output_type": "display_data"
    }
   ],
   "source": [
    "#7. Check for Data Anomalies or Outliers\n",
    "import matplotlib.pyplot as plt\n",
    "import seaborn as sns\n",
    "\n",
    "#Checking for outliers in the 'revenue' column by ploting a scatter plot\n",
    "sns.set_theme(style=\"whitegrid\")\n",
    "sns.scatterplot(data=df_clean, x=\"revenue\", y=\"week\", hue=\"sales_method\", palette=\"deep\")\n",
    "plt.show()\n"
   ]
  },
  {
   "cell_type": "code",
   "execution_count": 31,
   "metadata": {},
   "outputs": [
    {
     "data": {
      "image/png": "[encoded data removed]",
      "text/plain": [
       "<Figure size 432x288 with 1 Axes>"
      ]
     },
     "metadata": {},
     "output_type": "display_data"
    }
   ],
   "source": [
    "#Checking for outliers in the 'years_as_customer' column by ploting a boxplot\n",
    "sns.boxplot(x=df_clean['years_as_customer'])\n",
    "plt.show()"
   ]
  },
  {
   "cell_type": "markdown",
   "metadata": {},
   "source": [
    "Concerning outliers, we already fixed the ones we found on years_as_customer column. Let’s check it on the revenue column and number of new products sold.  "
   ]
  },
  {
   "cell_type": "code",
   "execution_count": 32,
   "metadata": {},
   "outputs": [
    {
     "data": {
      "image/png": "[encoded data removed]",
      "text/plain": [
       "<Figure size 432x288 with 1 Axes>"
      ]
     },
     "metadata": {},
     "output_type": "display_data"
    }
   ],
   "source": [
    "#Checking for outliers in the 'nb_sold' column by ploting a boxplot\n",
    "sns.boxplot(x=df_clean['nb_sold'])\n",
    "plt.show()"
   ]
  },
  {
   "cell_type": "markdown",
   "metadata": {},
   "source": [
    "After doing that, we conclude that there were no outliers on the dataset identified so far. Let’s pass to the next step and clean the data even further. "
   ]
  },
  {
   "cell_type": "markdown",
   "metadata": {},
   "source": [
    "### **Process and cleaning**"
   ]
  },
  {
   "cell_type": "code",
   "execution_count": 34,
   "metadata": {},
   "outputs": [
    {
     "data": {
      "text/html": [
       "<div>\n",
       "<style scoped>\n",
       "    .dataframe tbody tr th:only-of-type {\n",
       "        vertical-align: middle;\n",
       "    }\n",
       "\n",
       "    .dataframe tbody tr th {\n",
       "        vertical-align: top;\n",
       "    }\n",
       "\n",
       "    .dataframe thead th {\n",
       "        text-align: right;\n",
       "    }\n",
       "</style>\n",
       "<table border=\"1\" class=\"dataframe\">\n",
       "  <thead>\n",
       "    <tr style=\"text-align: right;\">\n",
       "      <th></th>\n",
       "      <th>week</th>\n",
       "      <th>sales_method</th>\n",
       "      <th>customer_id</th>\n",
       "      <th>nb_sold</th>\n",
       "      <th>revenue</th>\n",
       "      <th>years_as_customer</th>\n",
       "      <th>nb_site_visits</th>\n",
       "      <th>state</th>\n",
       "    </tr>\n",
       "  </thead>\n",
       "  <tbody>\n",
       "    <tr>\n",
       "      <th>559</th>\n",
       "      <td>6</td>\n",
       "      <td>Email + Call</td>\n",
       "      <td>b2f45f98-50f4-4ba3-ba61-429a56d9f0d4</td>\n",
       "      <td>15</td>\n",
       "      <td>225.64</td>\n",
       "      <td>6</td>\n",
       "      <td>29</td>\n",
       "      <td>New York</td>\n",
       "    </tr>\n",
       "    <tr>\n",
       "      <th>12669</th>\n",
       "      <td>2</td>\n",
       "      <td>Call</td>\n",
       "      <td>f1d2b92a-90cb-4c8c-8f77-d77647b7f19e</td>\n",
       "      <td>9</td>\n",
       "      <td>43.18</td>\n",
       "      <td>4</td>\n",
       "      <td>29</td>\n",
       "      <td>Florida</td>\n",
       "    </tr>\n",
       "    <tr>\n",
       "      <th>12337</th>\n",
       "      <td>1</td>\n",
       "      <td>Email</td>\n",
       "      <td>bd970710-36e5-4c1b-b6c5-8614188c734c</td>\n",
       "      <td>8</td>\n",
       "      <td>84.56</td>\n",
       "      <td>5</td>\n",
       "      <td>23</td>\n",
       "      <td>California</td>\n",
       "    </tr>\n",
       "    <tr>\n",
       "      <th>12324</th>\n",
       "      <td>4</td>\n",
       "      <td>Call</td>\n",
       "      <td>641a905a-0b0d-4106-a524-c8d8080757ae</td>\n",
       "      <td>10</td>\n",
       "      <td>51.79</td>\n",
       "      <td>2</td>\n",
       "      <td>22</td>\n",
       "      <td>California</td>\n",
       "    </tr>\n",
       "    <tr>\n",
       "      <th>5835</th>\n",
       "      <td>4</td>\n",
       "      <td>Email</td>\n",
       "      <td>a3a1eb78-5287-4b0c-be0d-b20486f5f53d</td>\n",
       "      <td>12</td>\n",
       "      <td>121.64</td>\n",
       "      <td>13</td>\n",
       "      <td>31</td>\n",
       "      <td>Louisiana</td>\n",
       "    </tr>\n",
       "    <tr>\n",
       "      <th>9332</th>\n",
       "      <td>3</td>\n",
       "      <td>Email</td>\n",
       "      <td>16728ac4-3612-48fa-b070-fbc53c29a905</td>\n",
       "      <td>9</td>\n",
       "      <td>88.45</td>\n",
       "      <td>0</td>\n",
       "      <td>24</td>\n",
       "      <td>Wisconsin</td>\n",
       "    </tr>\n",
       "    <tr>\n",
       "      <th>12478</th>\n",
       "      <td>6</td>\n",
       "      <td>Email + Call</td>\n",
       "      <td>0228e024-ae73-463f-8967-46a421655138</td>\n",
       "      <td>15</td>\n",
       "      <td>227.39</td>\n",
       "      <td>2</td>\n",
       "      <td>29</td>\n",
       "      <td>Indiana</td>\n",
       "    </tr>\n",
       "    <tr>\n",
       "      <th>7282</th>\n",
       "      <td>6</td>\n",
       "      <td>Email + Call</td>\n",
       "      <td>d6202d12-3668-4cb4-8f36-4703dbbef161</td>\n",
       "      <td>15</td>\n",
       "      <td>227.27</td>\n",
       "      <td>1</td>\n",
       "      <td>31</td>\n",
       "      <td>Tennessee</td>\n",
       "    </tr>\n",
       "    <tr>\n",
       "      <th>9600</th>\n",
       "      <td>1</td>\n",
       "      <td>Email</td>\n",
       "      <td>aba11358-8856-4d56-aaa9-5ef131e24f50</td>\n",
       "      <td>8</td>\n",
       "      <td>84.51</td>\n",
       "      <td>1</td>\n",
       "      <td>20</td>\n",
       "      <td>California</td>\n",
       "    </tr>\n",
       "    <tr>\n",
       "      <th>7238</th>\n",
       "      <td>4</td>\n",
       "      <td>Email</td>\n",
       "      <td>c3c8f841-5bf2-4a03-8b35-5b96e58d1e3c</td>\n",
       "      <td>11</td>\n",
       "      <td>105.06</td>\n",
       "      <td>7</td>\n",
       "      <td>22</td>\n",
       "      <td>New Jersey</td>\n",
       "    </tr>\n",
       "    <tr>\n",
       "      <th>11955</th>\n",
       "      <td>4</td>\n",
       "      <td>Email</td>\n",
       "      <td>1730a6ee-1f18-42f6-a131-de749e74098f</td>\n",
       "      <td>11</td>\n",
       "      <td>106.00</td>\n",
       "      <td>0</td>\n",
       "      <td>32</td>\n",
       "      <td>North Carolina</td>\n",
       "    </tr>\n",
       "    <tr>\n",
       "      <th>13739</th>\n",
       "      <td>5</td>\n",
       "      <td>Email + Call</td>\n",
       "      <td>9f16f596-62f9-43ee-afff-81141d548abe</td>\n",
       "      <td>12</td>\n",
       "      <td>186.39</td>\n",
       "      <td>2</td>\n",
       "      <td>24</td>\n",
       "      <td>Louisiana</td>\n",
       "    </tr>\n",
       "    <tr>\n",
       "      <th>13444</th>\n",
       "      <td>3</td>\n",
       "      <td>Call</td>\n",
       "      <td>3b88fa63-9b7f-4818-b494-502d3e48f4fe</td>\n",
       "      <td>8</td>\n",
       "      <td>42.14</td>\n",
       "      <td>1</td>\n",
       "      <td>22</td>\n",
       "      <td>Missouri</td>\n",
       "    </tr>\n",
       "    <tr>\n",
       "      <th>5198</th>\n",
       "      <td>4</td>\n",
       "      <td>Email</td>\n",
       "      <td>cb8d7a63-46c6-428b-a041-60585e4323d6</td>\n",
       "      <td>11</td>\n",
       "      <td>112.34</td>\n",
       "      <td>2</td>\n",
       "      <td>25</td>\n",
       "      <td>Texas</td>\n",
       "    </tr>\n",
       "    <tr>\n",
       "      <th>711</th>\n",
       "      <td>1</td>\n",
       "      <td>Email</td>\n",
       "      <td>9ab98983-61db-4a54-9487-2524050ab3fd</td>\n",
       "      <td>9</td>\n",
       "      <td>88.10</td>\n",
       "      <td>1</td>\n",
       "      <td>28</td>\n",
       "      <td>Florida</td>\n",
       "    </tr>\n",
       "  </tbody>\n",
       "</table>\n",
       "</div>"
      ],
      "text/plain": [
       "       week  sales_method                           customer_id  nb_sold  \\\n",
       "559       6  Email + Call  b2f45f98-50f4-4ba3-ba61-429a56d9f0d4       15   \n",
       "12669     2          Call  f1d2b92a-90cb-4c8c-8f77-d77647b7f19e        9   \n",
       "12337     1         Email  bd970710-36e5-4c1b-b6c5-8614188c734c        8   \n",
       "12324     4          Call  641a905a-0b0d-4106-a524-c8d8080757ae       10   \n",
       "5835      4         Email  a3a1eb78-5287-4b0c-be0d-b20486f5f53d       12   \n",
       "9332      3         Email  16728ac4-3612-48fa-b070-fbc53c29a905        9   \n",
       "12478     6  Email + Call  0228e024-ae73-463f-8967-46a421655138       15   \n",
       "7282      6  Email + Call  d6202d12-3668-4cb4-8f36-4703dbbef161       15   \n",
       "9600      1         Email  aba11358-8856-4d56-aaa9-5ef131e24f50        8   \n",
       "7238      4         Email  c3c8f841-5bf2-4a03-8b35-5b96e58d1e3c       11   \n",
       "11955     4         Email  1730a6ee-1f18-42f6-a131-de749e74098f       11   \n",
       "13739     5  Email + Call  9f16f596-62f9-43ee-afff-81141d548abe       12   \n",
       "13444     3          Call  3b88fa63-9b7f-4818-b494-502d3e48f4fe        8   \n",
       "5198      4         Email  cb8d7a63-46c6-428b-a041-60585e4323d6       11   \n",
       "711       1         Email  9ab98983-61db-4a54-9487-2524050ab3fd        9   \n",
       "\n",
       "       revenue  years_as_customer  nb_site_visits           state  \n",
       "559     225.64                  6              29        New York  \n",
       "12669    43.18                  4              29         Florida  \n",
       "12337    84.56                  5              23      California  \n",
       "12324    51.79                  2              22      California  \n",
       "5835    121.64                 13              31       Louisiana  \n",
       "9332     88.45                  0              24       Wisconsin  \n",
       "12478   227.39                  2              29         Indiana  \n",
       "7282    227.27                  1              31       Tennessee  \n",
       "9600     84.51                  1              20      California  \n",
       "7238    105.06                  7              22      New Jersey  \n",
       "11955   106.00                  0              32  North Carolina  \n",
       "13739   186.39                  2              24       Louisiana  \n",
       "13444    42.14                  1              22        Missouri  \n",
       "5198    112.34                  2              25           Texas  \n",
       "711      88.10                  1              28         Florida  "
      ]
     },
     "execution_count": 34,
     "metadata": {},
     "output_type": "execute_result"
    }
   ],
   "source": [
    "df_clean.sample(15)"
   ]
  },
  {
   "cell_type": "code",
   "execution_count": 53,
   "metadata": {},
   "outputs": [
    {
     "data": {
      "text/html": [
       "<div>\n",
       "<style scoped>\n",
       "    .dataframe tbody tr th:only-of-type {\n",
       "        vertical-align: middle;\n",
       "    }\n",
       "\n",
       "    .dataframe tbody tr th {\n",
       "        vertical-align: top;\n",
       "    }\n",
       "\n",
       "    .dataframe thead th {\n",
       "        text-align: right;\n",
       "    }\n",
       "</style>\n",
       "<table border=\"1\" class=\"dataframe\">\n",
       "  <thead>\n",
       "    <tr style=\"text-align: right;\">\n",
       "      <th></th>\n",
       "      <th>week</th>\n",
       "      <th>sales_method</th>\n",
       "      <th>nb_sold</th>\n",
       "      <th>revenue</th>\n",
       "      <th>years_as_customer</th>\n",
       "      <th>nb_site_visits</th>\n",
       "      <th>state</th>\n",
       "      <th>revenue_per_item</th>\n",
       "      <th>customer_id</th>\n",
       "    </tr>\n",
       "  </thead>\n",
       "  <tbody>\n",
       "    <tr>\n",
       "      <th>11215</th>\n",
       "      <td>1</td>\n",
       "      <td>Email</td>\n",
       "      <td>9</td>\n",
       "      <td>89.75</td>\n",
       "      <td>3</td>\n",
       "      <td>20</td>\n",
       "      <td>Louisiana</td>\n",
       "      <td>9.97</td>\n",
       "      <td>03dc5db5-d2b3-4fe2-9343-73cbeb2676a0</td>\n",
       "    </tr>\n",
       "    <tr>\n",
       "      <th>12493</th>\n",
       "      <td>5</td>\n",
       "      <td>Email + Call</td>\n",
       "      <td>13</td>\n",
       "      <td>188.35</td>\n",
       "      <td>5</td>\n",
       "      <td>29</td>\n",
       "      <td>Connecticut</td>\n",
       "      <td>14.49</td>\n",
       "      <td>7f464e12-d129-48fa-9d27-e0df87bd30a6</td>\n",
       "    </tr>\n",
       "    <tr>\n",
       "      <th>7962</th>\n",
       "      <td>3</td>\n",
       "      <td>Email</td>\n",
       "      <td>9</td>\n",
       "      <td>91.82</td>\n",
       "      <td>1</td>\n",
       "      <td>23</td>\n",
       "      <td>Wisconsin</td>\n",
       "      <td>10.20</td>\n",
       "      <td>3e3d3464-e7fa-42e1-8576-9e07dd2f98f5</td>\n",
       "    </tr>\n",
       "    <tr>\n",
       "      <th>4834</th>\n",
       "      <td>3</td>\n",
       "      <td>Email</td>\n",
       "      <td>9</td>\n",
       "      <td>87.08</td>\n",
       "      <td>6</td>\n",
       "      <td>26</td>\n",
       "      <td>Wisconsin</td>\n",
       "      <td>9.68</td>\n",
       "      <td>6f3a4fcd-11a1-47a6-9757-3c14b94684cc</td>\n",
       "    </tr>\n",
       "    <tr>\n",
       "      <th>14434</th>\n",
       "      <td>1</td>\n",
       "      <td>Call</td>\n",
       "      <td>7</td>\n",
       "      <td>35.92</td>\n",
       "      <td>1</td>\n",
       "      <td>23</td>\n",
       "      <td>Wisconsin</td>\n",
       "      <td>5.13</td>\n",
       "      <td>28617144-f89b-4b8b-9300-6bd038d0dec7</td>\n",
       "    </tr>\n",
       "    <tr>\n",
       "      <th>6414</th>\n",
       "      <td>5</td>\n",
       "      <td>Call</td>\n",
       "      <td>11</td>\n",
       "      <td>52.81</td>\n",
       "      <td>4</td>\n",
       "      <td>21</td>\n",
       "      <td>Tennessee</td>\n",
       "      <td>4.80</td>\n",
       "      <td>3f171a02-49c5-47d2-8614-99001deb7504</td>\n",
       "    </tr>\n",
       "    <tr>\n",
       "      <th>2529</th>\n",
       "      <td>1</td>\n",
       "      <td>Email</td>\n",
       "      <td>9</td>\n",
       "      <td>93.09</td>\n",
       "      <td>16</td>\n",
       "      <td>22</td>\n",
       "      <td>Pennsylvania</td>\n",
       "      <td>10.34</td>\n",
       "      <td>c9bf225c-e9fd-4c88-82e2-9f6a5c6c578c</td>\n",
       "    </tr>\n",
       "    <tr>\n",
       "      <th>1978</th>\n",
       "      <td>3</td>\n",
       "      <td>Call</td>\n",
       "      <td>9</td>\n",
       "      <td>42.59</td>\n",
       "      <td>7</td>\n",
       "      <td>20</td>\n",
       "      <td>Georgia</td>\n",
       "      <td>4.73</td>\n",
       "      <td>3f541144-0147-4311-a9f2-964ecaff76e6</td>\n",
       "    </tr>\n",
       "    <tr>\n",
       "      <th>2559</th>\n",
       "      <td>6</td>\n",
       "      <td>Call</td>\n",
       "      <td>13</td>\n",
       "      <td>65.74</td>\n",
       "      <td>6</td>\n",
       "      <td>28</td>\n",
       "      <td>California</td>\n",
       "      <td>5.06</td>\n",
       "      <td>5f852f8a-521d-4ecb-a490-2ae739f03588</td>\n",
       "    </tr>\n",
       "    <tr>\n",
       "      <th>8024</th>\n",
       "      <td>6</td>\n",
       "      <td>Email + Call</td>\n",
       "      <td>15</td>\n",
       "      <td>223.61</td>\n",
       "      <td>1</td>\n",
       "      <td>28</td>\n",
       "      <td>Pennsylvania</td>\n",
       "      <td>14.91</td>\n",
       "      <td>8b422a00-8d90-4444-9446-91bcc5dc3a24</td>\n",
       "    </tr>\n",
       "  </tbody>\n",
       "</table>\n",
       "</div>"
      ],
      "text/plain": [
       "       week  sales_method  nb_sold  revenue  years_as_customer  \\\n",
       "11215     1         Email        9    89.75                  3   \n",
       "12493     5  Email + Call       13   188.35                  5   \n",
       "7962      3         Email        9    91.82                  1   \n",
       "4834      3         Email        9    87.08                  6   \n",
       "14434     1          Call        7    35.92                  1   \n",
       "6414      5          Call       11    52.81                  4   \n",
       "2529      1         Email        9    93.09                 16   \n",
       "1978      3          Call        9    42.59                  7   \n",
       "2559      6          Call       13    65.74                  6   \n",
       "8024      6  Email + Call       15   223.61                  1   \n",
       "\n",
       "       nb_site_visits         state  revenue_per_item  \\\n",
       "11215              20     Louisiana              9.97   \n",
       "12493              29   Connecticut             14.49   \n",
       "7962               23     Wisconsin             10.20   \n",
       "4834               26     Wisconsin              9.68   \n",
       "14434              23     Wisconsin              5.13   \n",
       "6414               21     Tennessee              4.80   \n",
       "2529               22  Pennsylvania             10.34   \n",
       "1978               20       Georgia              4.73   \n",
       "2559               28    California              5.06   \n",
       "8024               28  Pennsylvania             14.91   \n",
       "\n",
       "                                customer_id  \n",
       "11215  03dc5db5-d2b3-4fe2-9343-73cbeb2676a0  \n",
       "12493  7f464e12-d129-48fa-9d27-e0df87bd30a6  \n",
       "7962   3e3d3464-e7fa-42e1-8576-9e07dd2f98f5  \n",
       "4834   6f3a4fcd-11a1-47a6-9757-3c14b94684cc  \n",
       "14434  28617144-f89b-4b8b-9300-6bd038d0dec7  \n",
       "6414   3f171a02-49c5-47d2-8614-99001deb7504  \n",
       "2529   c9bf225c-e9fd-4c88-82e2-9f6a5c6c578c  \n",
       "1978   3f541144-0147-4311-a9f2-964ecaff76e6  \n",
       "2559   5f852f8a-521d-4ecb-a490-2ae739f03588  \n",
       "8024   8b422a00-8d90-4444-9446-91bcc5dc3a24  "
      ]
     },
     "execution_count": 53,
     "metadata": {},
     "output_type": "execute_result"
    }
   ],
   "source": [
    "#Create a new colum to 'df_clean' called 'revenue_per_item' which is the division of 'revenue' by  'nb_sold'\n",
    "df_clean['revenue_per_item'] = round(df_clean['revenue'] / df_clean['nb_sold'],2)\n",
    "df_clean.sample(10)"
   ]
  },
  {
   "cell_type": "markdown",
   "metadata": {},
   "source": [
    "It seems that our dataset is ready to be saved into a new .csv and be aggregated in the analyze phase."
   ]
  },
  {
   "cell_type": "code",
   "execution_count": 57,
   "metadata": {},
   "outputs": [],
   "source": [
    "df_clean.to_csv('product_sales_cleaned.csv', index=False)"
   ]
  },
  {
   "cell_type": "markdown",
   "metadata": {},
   "source": [
    "## **Analyzing**"
   ]
  },
  {
   "cell_type": "code",
   "execution_count": 1,
   "metadata": {},
   "outputs": [
    {
     "data": {
      "text/html": [
       "<div>\n",
       "<style scoped>\n",
       "    .dataframe tbody tr th:only-of-type {\n",
       "        vertical-align: middle;\n",
       "    }\n",
       "\n",
       "    .dataframe tbody tr th {\n",
       "        vertical-align: top;\n",
       "    }\n",
       "\n",
       "    .dataframe thead th {\n",
       "        text-align: right;\n",
       "    }\n",
       "</style>\n",
       "<table border=\"1\" class=\"dataframe\">\n",
       "  <thead>\n",
       "    <tr style=\"text-align: right;\">\n",
       "      <th></th>\n",
       "      <th>week</th>\n",
       "      <th>sales_method</th>\n",
       "      <th>nb_sold</th>\n",
       "      <th>revenue</th>\n",
       "      <th>years_as_customer</th>\n",
       "      <th>nb_site_visits</th>\n",
       "      <th>state</th>\n",
       "      <th>revenue_per_item</th>\n",
       "      <th>customer_id</th>\n",
       "    </tr>\n",
       "  </thead>\n",
       "  <tbody>\n",
       "    <tr>\n",
       "      <th>6076</th>\n",
       "      <td>1</td>\n",
       "      <td>Email</td>\n",
       "      <td>9</td>\n",
       "      <td>90.25</td>\n",
       "      <td>8</td>\n",
       "      <td>26</td>\n",
       "      <td>Virginia</td>\n",
       "      <td>10.03</td>\n",
       "      <td>ad6c6e42-a328-4682-89f5-eb8f597ced39</td>\n",
       "    </tr>\n",
       "    <tr>\n",
       "      <th>440</th>\n",
       "      <td>4</td>\n",
       "      <td>Email + Call</td>\n",
       "      <td>12</td>\n",
       "      <td>185.17</td>\n",
       "      <td>2</td>\n",
       "      <td>32</td>\n",
       "      <td>New York</td>\n",
       "      <td>15.43</td>\n",
       "      <td>3ff78267-12f0-4825-ad6e-1a2a35a6e4df</td>\n",
       "    </tr>\n",
       "    <tr>\n",
       "      <th>9649</th>\n",
       "      <td>2</td>\n",
       "      <td>Email</td>\n",
       "      <td>10</td>\n",
       "      <td>98.34</td>\n",
       "      <td>0</td>\n",
       "      <td>29</td>\n",
       "      <td>Alabama</td>\n",
       "      <td>9.83</td>\n",
       "      <td>fac8d392-3052-4d86-bb40-483463de3f33</td>\n",
       "    </tr>\n",
       "    <tr>\n",
       "      <th>12942</th>\n",
       "      <td>5</td>\n",
       "      <td>Email</td>\n",
       "      <td>11</td>\n",
       "      <td>110.94</td>\n",
       "      <td>10</td>\n",
       "      <td>30</td>\n",
       "      <td>Massachusetts</td>\n",
       "      <td>10.09</td>\n",
       "      <td>080cffa7-b862-4a3f-b6eb-815e7acf3e16</td>\n",
       "    </tr>\n",
       "    <tr>\n",
       "      <th>10961</th>\n",
       "      <td>3</td>\n",
       "      <td>Email</td>\n",
       "      <td>9</td>\n",
       "      <td>91.23</td>\n",
       "      <td>5</td>\n",
       "      <td>26</td>\n",
       "      <td>Texas</td>\n",
       "      <td>10.14</td>\n",
       "      <td>ee001b91-2e28-40d4-b38c-da3726363c24</td>\n",
       "    </tr>\n",
       "    <tr>\n",
       "      <th>2376</th>\n",
       "      <td>2</td>\n",
       "      <td>Email</td>\n",
       "      <td>10</td>\n",
       "      <td>97.29</td>\n",
       "      <td>1</td>\n",
       "      <td>23</td>\n",
       "      <td>California</td>\n",
       "      <td>9.73</td>\n",
       "      <td>785862c7-30cd-430f-b7a7-bcec92261e8a</td>\n",
       "    </tr>\n",
       "    <tr>\n",
       "      <th>2420</th>\n",
       "      <td>4</td>\n",
       "      <td>Email</td>\n",
       "      <td>11</td>\n",
       "      <td>106.60</td>\n",
       "      <td>2</td>\n",
       "      <td>23</td>\n",
       "      <td>Alabama</td>\n",
       "      <td>9.69</td>\n",
       "      <td>49744517-deeb-4818-bb3e-45b7eb79f508</td>\n",
       "    </tr>\n",
       "    <tr>\n",
       "      <th>11426</th>\n",
       "      <td>2</td>\n",
       "      <td>Email</td>\n",
       "      <td>10</td>\n",
       "      <td>100.13</td>\n",
       "      <td>4</td>\n",
       "      <td>28</td>\n",
       "      <td>California</td>\n",
       "      <td>10.01</td>\n",
       "      <td>535f83ca-65fe-4a49-86c1-f2a65f271b5d</td>\n",
       "    </tr>\n",
       "    <tr>\n",
       "      <th>11156</th>\n",
       "      <td>5</td>\n",
       "      <td>Email</td>\n",
       "      <td>11</td>\n",
       "      <td>106.61</td>\n",
       "      <td>0</td>\n",
       "      <td>22</td>\n",
       "      <td>New York</td>\n",
       "      <td>9.69</td>\n",
       "      <td>22cfd686-dabd-4ec8-ae95-7f4458505093</td>\n",
       "    </tr>\n",
       "    <tr>\n",
       "      <th>10856</th>\n",
       "      <td>2</td>\n",
       "      <td>Call</td>\n",
       "      <td>9</td>\n",
       "      <td>44.20</td>\n",
       "      <td>7</td>\n",
       "      <td>26</td>\n",
       "      <td>Michigan</td>\n",
       "      <td>4.91</td>\n",
       "      <td>47d14ae8-81dc-4c75-9b19-7399972dde0b</td>\n",
       "    </tr>\n",
       "  </tbody>\n",
       "</table>\n",
       "</div>"
      ],
      "text/plain": [
       "       week  sales_method  nb_sold  revenue  years_as_customer  \\\n",
       "6076      1         Email        9    90.25                  8   \n",
       "440       4  Email + Call       12   185.17                  2   \n",
       "9649      2         Email       10    98.34                  0   \n",
       "12942     5         Email       11   110.94                 10   \n",
       "10961     3         Email        9    91.23                  5   \n",
       "2376      2         Email       10    97.29                  1   \n",
       "2420      4         Email       11   106.60                  2   \n",
       "11426     2         Email       10   100.13                  4   \n",
       "11156     5         Email       11   106.61                  0   \n",
       "10856     2          Call        9    44.20                  7   \n",
       "\n",
       "       nb_site_visits          state  revenue_per_item  \\\n",
       "6076               26       Virginia             10.03   \n",
       "440                32       New York             15.43   \n",
       "9649               29        Alabama              9.83   \n",
       "12942              30  Massachusetts             10.09   \n",
       "10961              26          Texas             10.14   \n",
       "2376               23     California              9.73   \n",
       "2420               23        Alabama              9.69   \n",
       "11426              28     California             10.01   \n",
       "11156              22       New York              9.69   \n",
       "10856              26       Michigan              4.91   \n",
       "\n",
       "                                customer_id  \n",
       "6076   ad6c6e42-a328-4682-89f5-eb8f597ced39  \n",
       "440    3ff78267-12f0-4825-ad6e-1a2a35a6e4df  \n",
       "9649   fac8d392-3052-4d86-bb40-483463de3f33  \n",
       "12942  080cffa7-b862-4a3f-b6eb-815e7acf3e16  \n",
       "10961  ee001b91-2e28-40d4-b38c-da3726363c24  \n",
       "2376   785862c7-30cd-430f-b7a7-bcec92261e8a  \n",
       "2420   49744517-deeb-4818-bb3e-45b7eb79f508  \n",
       "11426  535f83ca-65fe-4a49-86c1-f2a65f271b5d  \n",
       "11156  22cfd686-dabd-4ec8-ae95-7f4458505093  \n",
       "10856  47d14ae8-81dc-4c75-9b19-7399972dde0b  "
      ]
     },
     "execution_count": 1,
     "metadata": {},
     "output_type": "execute_result"
    }
   ],
   "source": [
    "import pandas as pd \n",
    "import matplotlib.pyplot as plt\n",
    "import seaborn as sns\n",
    "#Assiging the cleaned data to a new variable\n",
    "df_cleaned = pd.read_csv('product_sales_cleaned.csv')\n",
    "df_cleaned.sample(10)"
   ]
  },
  {
   "cell_type": "markdown",
   "metadata": {},
   "source": [
    "- How many customers were there for each approach?"
   ]
  },
  {
   "cell_type": "code",
   "execution_count": 4,
   "metadata": {},
   "outputs": [
    {
     "name": "stdout",
     "output_type": "stream",
     "text": [
      "   sales_method  customer_id  proportion\n",
      "1         Email         6921        0.50\n",
      "0          Call         4780        0.34\n",
      "2  Email + Call         2223        0.16\n"
     ]
    }
   ],
   "source": [
    "#Calculating the total number of customers in each sales method and getting the proportion of customers in each sales method compared to the total number of customers\n",
    "total_customers = df_cleaned.groupby('sales_method')['customer_id'].nunique()  \n",
    "total_customers = total_customers.reset_index()\n",
    "total_customers['proportion'] = round(total_customers['customer_id'] / total_customers['customer_id'].sum(), 2)\n",
    "#Printing the total number of customers in each sales method sorting by the 'customer_id' column in descending order\n",
    "total_customers = total_customers.sort_values(by='customer_id', ascending=False)\n",
    "print(total_customers)\n",
    "\n",
    "#saving into a csv file to be used in the visualization part\n",
    "total_customers.to_csv('question_1.csv', index=False)\n"
   ]
  },
  {
   "cell_type": "markdown",
   "metadata": {},
   "source": [
    "To answer the first business question, we have Email as the major sales method with 6.921 customers in it, which is half of the total customers. In second place, the Call method appears with 4.780 people, representing 34%. And lastly, Email + Call method represents only 16% of all approachs with 2.223 customers. \n",
    "\n",
    "Let's pass to the next question: **What does the spread of the revenue look like overall? And for each method?**"
   ]
  },
  {
   "cell_type": "code",
   "execution_count": 13,
   "metadata": {},
   "outputs": [
    {
     "name": "stdout",
     "output_type": "stream",
     "text": [
      "   week    revenue  proportion\n",
      "0     1  272810.06        0.21\n",
      "4     5  254701.28        0.19\n",
      "3     4  235628.09        0.18\n",
      "1     2  197962.60        0.15\n",
      "2     3  183776.55        0.14\n",
      "5     6  163111.74        0.12\n"
     ]
    }
   ],
   "source": [
    "#Calculating how the revenue spread across weeks\n",
    "total_revenue = df_cleaned.groupby('week')['revenue'].sum()\n",
    "total_revenue = total_revenue.reset_index()\n",
    "total_revenue['proportion'] = round(total_revenue['revenue'] / total_revenue['revenue'].sum(), 2)\n",
    "#Printing the total revenue in each week sorting by the 'revenue' column in descending order\n",
    "total_revenue = total_revenue.sort_values(by='revenue', ascending=False)\n",
    "print(total_revenue)\n",
    "\n",
    "#saving into a csv file to be used in the visualization part\n",
    "total_revenue.to_csv('question_2_1.csv', index=False)"
   ]
  },
  {
   "cell_type": "code",
   "execution_count": 11,
   "metadata": {},
   "outputs": [
    {
     "data": {
      "image/png": "[encoded data removed]",
      "text/plain": [
       "<Figure size 432x288 with 1 Axes>"
      ]
     },
     "metadata": {
      "needs_background": "light"
     },
     "output_type": "display_data"
    }
   ],
   "source": [
    "#Ploting the overall revenue spread across weeks using a line plot\n",
    "sns.lineplot(data=total_revenue, x=\"week\", y=\"revenue\")\n",
    "plt.show()"
   ]
  },
  {
   "cell_type": "code",
   "execution_count": 14,
   "metadata": {},
   "outputs": [
    {
     "name": "stdout",
     "output_type": "stream",
     "text": [
      "   sales_method    revenue  proportion\n",
      "1         Email  672220.61        0.51\n",
      "2  Email + Call  408256.69        0.31\n",
      "0          Call  227513.02        0.17\n"
     ]
    }
   ],
   "source": [
    "#Calculating the total revenue in each sales method and getting the proportion of revenue in each sales method compared to the total revenue\n",
    "total_revenue_sales_method = df_cleaned.groupby('sales_method')['revenue'].sum()\n",
    "total_revenue_sales_method = total_revenue_sales_method.reset_index()\n",
    "total_revenue_sales_method['proportion'] = round(total_revenue_sales_method['revenue'] / total_revenue_sales_method['revenue'].sum(), 2)\n",
    "#Printing the total revenue in each sales method sorting by the 'revenue' column in descending order\n",
    "total_revenue_sales_method = total_revenue_sales_method.sort_values(by='revenue', ascending=False)\n",
    "print(total_revenue_sales_method)\n",
    "\n",
    "#saving into a csv file to be used in the visualization part\n",
    "total_revenue_sales_method.to_csv('question_2_2.csv', index=False)"
   ]
  },
  {
   "cell_type": "code",
   "execution_count": 87,
   "metadata": {},
   "outputs": [
    {
     "data": {
      "image/png": "[encoded data removed]",
      "text/plain": [
       "<Figure size 432x288 with 1 Axes>"
      ]
     },
     "metadata": {},
     "output_type": "display_data"
    }
   ],
   "source": [
    "#Ploting the revenue per sales method using a bar plot\n",
    "sns.barplot(data=total_revenue_sales_method, x=\"sales_method\", y=\"revenue\")\n",
    "plt.show()"
   ]
  },
  {
   "cell_type": "markdown",
   "metadata": {},
   "source": [
    "Overall, the first week was the most profitable with a revenue of U$ 272.810 dollars. After that, the sales went down below the mark of U$ 200.000 dollars for two weeks in a row. Another peak in sales on the 4th and 5th week (the later with the second best revenue of U$ 254.701 dollars) before the 6th and last week, also known as the worst week for the sales of Pens and Printers (U$ 163.111 dollars). \n",
    "\n",
    "For each sales method, the most profitable was the Email responsible of more than half of the total revenue (U$ 672.220 dollars). Email + Call assumed the second position with more than U$ 408.256 dollars, representing 31% of the total revenue. Last, the Call method was responsible for only 17% of the total revenue or U$ 227.513 dollars.\n",
    "\n",
    "Let’s pass to the last business question : **Was there any difference in revenue over time for each of the methods?**\n"
   ]
  },
  {
   "cell_type": "code",
   "execution_count": 20,
   "metadata": {},
   "outputs": [
    {
     "name": "stdout",
     "output_type": "stream",
     "text": [
      "    week  sales_method    revenue  proportion\n",
      "1      1         Email  229765.55        0.18\n",
      "4      2         Email  137794.35        0.11\n",
      "14     5  Email + Call  126809.72        0.10\n",
      "17     6  Email + Call  111152.07        0.08\n",
      "10     4         Email  107788.37        0.08\n",
      "7      3         Email   98792.14        0.08\n",
      "11     4  Email + Call   78296.20        0.06\n",
      "13     5         Email   74373.45        0.06\n",
      "12     5          Call   53518.11        0.04\n",
      "9      4          Call   49543.52        0.04\n",
      "8      3  Email + Call   48737.14        0.04\n",
      "6      3          Call   36247.27        0.03\n",
      "3      2          Call   33792.02        0.03\n",
      "15     6          Call   28252.92        0.02\n",
      "5      2  Email + Call   26376.23        0.02\n",
      "0      1          Call   26159.18        0.02\n",
      "16     6         Email   23706.75        0.02\n",
      "2      1  Email + Call   16885.33        0.01\n"
     ]
    }
   ],
   "source": [
    "#Calculating the revenue over time for each sales method\n",
    "revenue_over_time = df_cleaned.groupby(['week', 'sales_method'])['revenue'].sum()\n",
    "revenue_over_time = revenue_over_time.reset_index()\n",
    "revenue_over_time['proportion'] = round(revenue_over_time['revenue'] / revenue_over_time['revenue'].sum(), 2)\n",
    "#Printing the revenue over time for each sales method sorting by the 'revenue' column in descending order\n",
    "revenue_over_time = revenue_over_time.sort_values(by='revenue', ascending=False)\n",
    "print(revenue_over_time)\n",
    "\n",
    "#saving into a csv file to be used in the visualization part\n",
    "revenue_over_time.to_csv('question_3.csv', index=False)\n"
   ]
  },
  {
   "cell_type": "code",
   "execution_count": 16,
   "metadata": {},
   "outputs": [
    {
     "data": {
      "image/png": "[encoded data removed]",
      "text/plain": [
       "<Figure size 432x288 with 1 Axes>"
      ]
     },
     "metadata": {
      "needs_background": "light"
     },
     "output_type": "display_data"
    }
   ],
   "source": [
    "#ploting the revenue over time for each sales method using a line plot\n",
    "sns.lineplot(data=revenue_over_time, x=\"week\", y=\"revenue\", hue=\"sales_method\")\n",
    "plt.show()"
   ]
  },
  {
   "cell_type": "code",
   "execution_count": 31,
   "metadata": {},
   "outputs": [
    {
     "name": "stdout",
     "output_type": "stream",
     "text": [
      "    week  sales_method  nb_sold  proportion\n",
      "1      1         Email    22926        0.16\n",
      "4      2         Email    13847        0.10\n",
      "10     4         Email    10810        0.08\n",
      "12     5          Call    10731        0.08\n",
      "7      3         Email     9873        0.07\n",
      "9      4          Call     9831        0.07\n",
      "14     5  Email + Call     8430        0.06\n",
      "13     5         Email     7463        0.05\n",
      "17     6  Email + Call     7350        0.05\n",
      "6      3          Call     7177        0.05\n",
      "3      2          Call     6823        0.05\n",
      "15     6          Call     5613        0.04\n",
      "0      1          Call     5239        0.04\n",
      "11     4  Email + Call     5212        0.04\n",
      "8      3  Email + Call     3244        0.02\n",
      "16     6         Email     2374        0.02\n",
      "5      2  Email + Call     1722        0.01\n",
      "2      1  Email + Call     1133        0.01\n"
     ]
    }
   ],
   "source": [
    "#Calculating the nb_sold over time for each sales method\n",
    "method_sold = df_cleaned.groupby(['week', 'sales_method'])['nb_sold'].sum()\n",
    "method_sold = method_sold.reset_index()\n",
    "method_sold['proportion'] = round(method_sold['nb_sold'] / method_sold['nb_sold'].sum(), 2)\n",
    "#Printing the revenue over time for each sales method sorting by the 'revenue' column in descending order\n",
    "method_sold = method_sold.sort_values(by='nb_sold', ascending=False)\n",
    "print(method_sold)\n",
    "\n",
    "\n",
    "\n",
    "#saving into a csv file to be used in the visualization part\n",
    "method_sold.to_csv('method_sold.csv', index=False)"
   ]
  },
  {
   "cell_type": "code",
   "execution_count": 28,
   "metadata": {},
   "outputs": [
    {
     "data": {
      "text/plain": [
       "<AxesSubplot:xlabel='week', ylabel='nb_sold'>"
      ]
     },
     "execution_count": 28,
     "metadata": {},
     "output_type": "execute_result"
    },
    {
     "data": {
      "image/png": "[encoded data removed]",
      "text/plain": [
       "<Figure size 432x288 with 1 Axes>"
      ]
     },
     "metadata": {
      "needs_background": "light"
     },
     "output_type": "display_data"
    }
   ],
   "source": [
    "#ploting the nb_sold over time for each sales method using a line plot\n",
    "sns.lineplot(data=method_sold, x=\"week\", y=\"nb_sold\", hue=\"sales_method\")\n"
   ]
  },
  {
   "cell_type": "markdown",
   "metadata": {},
   "source": [
    "Over time, it’s possible to see that Email method kicked-off very well in the first week, with more of U$ 220.000 dollars in sales, only to decline in the next 5 weeks, dropping to nearly U$ 23.706 dollars in the last week. \n",
    "\n",
    "The Email + Call, even though it started a little low in the first week, below U$ 16.900 dollars in revenue, increased its numbers after the second week surpassing the Email method in the 4th week and achieving more than U$ 126.800 dollars on its peak in the 5th week.\n",
    "\n",
    "The Call method did not vary a lot during the period of 6 weeks, having its peak at the 5th week with more than UU 53.500 dollars ins revenue. Between the three methods, Call is the one that produced less revenue, responsible for only 13% of the total revenue. \n",
    "\n",
    "Let's pass to the next question **Based on the data, which method would you recommend we continue to use? Some of these methods take more time from the team so they may not be the best for us to use if the results are similar.**\n",
    "\n",
    "Based on the data, the \"Email\" method consistently generates the highest revenue across multiple weeks with relatively high proportions of the total revenue. The \"Email + Call\" method appears to generate lower revenue overall, despite combining two approaches, and it takes more time and effort from the team. Given that the Email method consistently produces the highest revenue without the added complexity of combining it with calls, I would recommend focusing on the Email method moving forward. The Email + Call method does not appear to provide sufficient additional benefit to justify the extra time and effort from the team, especially when compared to the straightforward Email approach. The Call method should also be deprioritized as it produces the lowest revenue.\n",
    "\n",
    "\n",
    "Also, the Email method seems to consistently produces the highest number of units sold, so I would recommend continuing with this method. It is more efficient in terms of the results achieved, while the Email + Call method does not seem to provide a substantial enough boost to justify the added time and effort from the team. The Call method could be deprioritized or used in specific cases where its effectiveness is proven, but the Email method clearly stands out as the best approach overall.\n",
    "\n",
    "**In short, the Email method is the most efficient in terms of revenue and number of units sold generated per effort.**\n"
   ]
  },
  {
   "cell_type": "markdown",
   "metadata": {},
   "source": [
    "The Sales team also asked us *We don’t really know if there are other differences between the customers in each group, so anything you can tell us would be really helpful to give some context to what went well* so let's start some exploratory analysis"
   ]
  },
  {
   "cell_type": "code",
   "execution_count": 4,
   "metadata": {},
   "outputs": [
    {
     "data": {
      "text/html": [
       "<div>\n",
       "<style scoped>\n",
       "    .dataframe tbody tr th:only-of-type {\n",
       "        vertical-align: middle;\n",
       "    }\n",
       "\n",
       "    .dataframe tbody tr th {\n",
       "        vertical-align: top;\n",
       "    }\n",
       "\n",
       "    .dataframe thead th {\n",
       "        text-align: right;\n",
       "    }\n",
       "</style>\n",
       "<table border=\"1\" class=\"dataframe\">\n",
       "  <thead>\n",
       "    <tr style=\"text-align: right;\">\n",
       "      <th></th>\n",
       "      <th>state</th>\n",
       "      <th>revenue</th>\n",
       "    </tr>\n",
       "  </thead>\n",
       "  <tbody>\n",
       "    <tr>\n",
       "      <th>4</th>\n",
       "      <td>California</td>\n",
       "      <td>160893.20</td>\n",
       "    </tr>\n",
       "    <tr>\n",
       "      <th>42</th>\n",
       "      <td>Texas</td>\n",
       "      <td>106294.45</td>\n",
       "    </tr>\n",
       "    <tr>\n",
       "      <th>31</th>\n",
       "      <td>New York</td>\n",
       "      <td>83242.74</td>\n",
       "    </tr>\n",
       "    <tr>\n",
       "      <th>8</th>\n",
       "      <td>Florida</td>\n",
       "      <td>77651.75</td>\n",
       "    </tr>\n",
       "    <tr>\n",
       "      <th>12</th>\n",
       "      <td>Illinois</td>\n",
       "      <td>52649.35</td>\n",
       "    </tr>\n",
       "    <tr>\n",
       "      <th>37</th>\n",
       "      <td>Pennsylvania</td>\n",
       "      <td>51595.35</td>\n",
       "    </tr>\n",
       "    <tr>\n",
       "      <th>34</th>\n",
       "      <td>Ohio</td>\n",
       "      <td>48010.94</td>\n",
       "    </tr>\n",
       "    <tr>\n",
       "      <th>21</th>\n",
       "      <td>Michigan</td>\n",
       "      <td>44424.81</td>\n",
       "    </tr>\n",
       "    <tr>\n",
       "      <th>9</th>\n",
       "      <td>Georgia</td>\n",
       "      <td>43426.41</td>\n",
       "    </tr>\n",
       "    <tr>\n",
       "      <th>32</th>\n",
       "      <td>North Carolina</td>\n",
       "      <td>38418.15</td>\n",
       "    </tr>\n",
       "  </tbody>\n",
       "</table>\n",
       "</div>"
      ],
      "text/plain": [
       "             state    revenue\n",
       "4       California  160893.20\n",
       "42           Texas  106294.45\n",
       "31        New York   83242.74\n",
       "8          Florida   77651.75\n",
       "12        Illinois   52649.35\n",
       "37    Pennsylvania   51595.35\n",
       "34            Ohio   48010.94\n",
       "21        Michigan   44424.81\n",
       "9          Georgia   43426.41\n",
       "32  North Carolina   38418.15"
      ]
     },
     "execution_count": 4,
     "metadata": {},
     "output_type": "execute_result"
    }
   ],
   "source": [
    "# Grouping the data by 'state' and summing the 'revenue' for each customer\n",
    "customer_revenue = df_cleaned.groupby('state')['revenue'].sum().reset_index()\n",
    "\n",
    "# Sorting the states by their total revenue contribution in descending order\n",
    "customer_revenue = customer_revenue.sort_values(by='revenue', ascending=False)\n",
    "\n",
    "# Displaying the top 10 states by revenue contribution\n",
    "customer_revenue.head(10)\n",
    "\n",
    "#saving into a csv file to be used in the visualization part\n",
    "customer_revenue.to_csv('state_revenu.csv', index=False)"
   ]
  },
  {
   "cell_type": "code",
   "execution_count": 15,
   "metadata": {},
   "outputs": [
    {
     "data": {
      "text/html": [
       "<div>\n",
       "<style scoped>\n",
       "    .dataframe tbody tr th:only-of-type {\n",
       "        vertical-align: middle;\n",
       "    }\n",
       "\n",
       "    .dataframe tbody tr th {\n",
       "        vertical-align: top;\n",
       "    }\n",
       "\n",
       "    .dataframe thead th {\n",
       "        text-align: right;\n",
       "    }\n",
       "</style>\n",
       "<table border=\"1\" class=\"dataframe\">\n",
       "  <thead>\n",
       "    <tr style=\"text-align: right;\">\n",
       "      <th></th>\n",
       "      <th>state</th>\n",
       "      <th>revenue</th>\n",
       "    </tr>\n",
       "  </thead>\n",
       "  <tbody>\n",
       "    <tr>\n",
       "      <th>18</th>\n",
       "      <td>Maine</td>\n",
       "      <td>5319.19</td>\n",
       "    </tr>\n",
       "    <tr>\n",
       "      <th>28</th>\n",
       "      <td>New Hampshire</td>\n",
       "      <td>4437.65</td>\n",
       "    </tr>\n",
       "    <tr>\n",
       "      <th>40</th>\n",
       "      <td>South Dakota</td>\n",
       "      <td>3980.69</td>\n",
       "    </tr>\n",
       "    <tr>\n",
       "      <th>38</th>\n",
       "      <td>Rhode Island</td>\n",
       "      <td>3948.10</td>\n",
       "    </tr>\n",
       "    <tr>\n",
       "      <th>25</th>\n",
       "      <td>Montana</td>\n",
       "      <td>3585.33</td>\n",
       "    </tr>\n",
       "    <tr>\n",
       "      <th>1</th>\n",
       "      <td>Alaska</td>\n",
       "      <td>3199.99</td>\n",
       "    </tr>\n",
       "    <tr>\n",
       "      <th>49</th>\n",
       "      <td>Wyoming</td>\n",
       "      <td>3071.81</td>\n",
       "    </tr>\n",
       "    <tr>\n",
       "      <th>7</th>\n",
       "      <td>Delaware</td>\n",
       "      <td>2780.82</td>\n",
       "    </tr>\n",
       "    <tr>\n",
       "      <th>44</th>\n",
       "      <td>Vermont</td>\n",
       "      <td>2747.43</td>\n",
       "    </tr>\n",
       "    <tr>\n",
       "      <th>33</th>\n",
       "      <td>North Dakota</td>\n",
       "      <td>2601.93</td>\n",
       "    </tr>\n",
       "  </tbody>\n",
       "</table>\n",
       "</div>"
      ],
      "text/plain": [
       "            state  revenue\n",
       "18          Maine  5319.19\n",
       "28  New Hampshire  4437.65\n",
       "40   South Dakota  3980.69\n",
       "38   Rhode Island  3948.10\n",
       "25        Montana  3585.33\n",
       "1          Alaska  3199.99\n",
       "49        Wyoming  3071.81\n",
       "7        Delaware  2780.82\n",
       "44        Vermont  2747.43\n",
       "33   North Dakota  2601.93"
      ]
     },
     "execution_count": 15,
     "metadata": {},
     "output_type": "execute_result"
    }
   ],
   "source": [
    "# Displaying the last 10 states by revenue contribution\n",
    "customer_revenue.tail(10)"
   ]
  },
  {
   "cell_type": "markdown",
   "metadata": {},
   "source": [
    "After combining the data of state and revenue, we discovered the top 10 states by revenue contribution. Customers from California are the ones who purchase the most from Pens and Printers, more than U$ 160.893 dollars in six weeks. Texas and New York are respectively second and third states with more contribution in revenue. After them, it comes Florida, Illinois, Pennsylvania, Ohio, Michigan, Georgia and North Carolina. \n",
    "\n",
    "The top states (California, Texas, New York, and Florida) are among the most populous and have large economies in USA.  \n",
    "California ranks highest with $160,893.20, which aligns with its status as the most populous state with the largest economy in the U.S.\n",
    "Texas and New York are similarly positioned with significant populations and economic output.\n",
    "\n",
    "The states where we have the least purchases are Maine, New Hampshire, South Dakota, Rhode Island, Montana, Alaska, Wyoming, Delaware, Vermont and North Dakota. In those states, the revenue varies between 2600 and 5300 dollars in the six weeks "
   ]
  },
  {
   "cell_type": "code",
   "execution_count": 11,
   "metadata": {},
   "outputs": [
    {
     "data": {
      "text/html": [
       "<div>\n",
       "<style scoped>\n",
       "    .dataframe tbody tr th:only-of-type {\n",
       "        vertical-align: middle;\n",
       "    }\n",
       "\n",
       "    .dataframe tbody tr th {\n",
       "        vertical-align: top;\n",
       "    }\n",
       "\n",
       "    .dataframe thead th {\n",
       "        text-align: right;\n",
       "    }\n",
       "</style>\n",
       "<table border=\"1\" class=\"dataframe\">\n",
       "  <thead>\n",
       "    <tr style=\"text-align: right;\">\n",
       "      <th></th>\n",
       "      <th>years_as_customer</th>\n",
       "      <th>revenue</th>\n",
       "      <th>proportion</th>\n",
       "    </tr>\n",
       "  </thead>\n",
       "  <tbody>\n",
       "    <tr>\n",
       "      <th>1</th>\n",
       "      <td>1</td>\n",
       "      <td>223172.97</td>\n",
       "      <td>0.17</td>\n",
       "    </tr>\n",
       "    <tr>\n",
       "      <th>2</th>\n",
       "      <td>2</td>\n",
       "      <td>175305.90</td>\n",
       "      <td>0.13</td>\n",
       "    </tr>\n",
       "    <tr>\n",
       "      <th>3</th>\n",
       "      <td>3</td>\n",
       "      <td>143178.56</td>\n",
       "      <td>0.11</td>\n",
       "    </tr>\n",
       "    <tr>\n",
       "      <th>0</th>\n",
       "      <td>0</td>\n",
       "      <td>137445.21</td>\n",
       "      <td>0.11</td>\n",
       "    </tr>\n",
       "    <tr>\n",
       "      <th>4</th>\n",
       "      <td>4</td>\n",
       "      <td>116106.52</td>\n",
       "      <td>0.09</td>\n",
       "    </tr>\n",
       "    <tr>\n",
       "      <th>5</th>\n",
       "      <td>5</td>\n",
       "      <td>96864.16</td>\n",
       "      <td>0.07</td>\n",
       "    </tr>\n",
       "    <tr>\n",
       "      <th>6</th>\n",
       "      <td>6</td>\n",
       "      <td>79033.35</td>\n",
       "      <td>0.06</td>\n",
       "    </tr>\n",
       "    <tr>\n",
       "      <th>7</th>\n",
       "      <td>7</td>\n",
       "      <td>59964.39</td>\n",
       "      <td>0.05</td>\n",
       "    </tr>\n",
       "    <tr>\n",
       "      <th>8</th>\n",
       "      <td>8</td>\n",
       "      <td>50471.89</td>\n",
       "      <td>0.04</td>\n",
       "    </tr>\n",
       "    <tr>\n",
       "      <th>9</th>\n",
       "      <td>9</td>\n",
       "      <td>41648.38</td>\n",
       "      <td>0.03</td>\n",
       "    </tr>\n",
       "    <tr>\n",
       "      <th>10</th>\n",
       "      <td>10</td>\n",
       "      <td>33563.97</td>\n",
       "      <td>0.03</td>\n",
       "    </tr>\n",
       "  </tbody>\n",
       "</table>\n",
       "</div>"
      ],
      "text/plain": [
       "    years_as_customer    revenue  proportion\n",
       "1                   1  223172.97        0.17\n",
       "2                   2  175305.90        0.13\n",
       "3                   3  143178.56        0.11\n",
       "0                   0  137445.21        0.11\n",
       "4                   4  116106.52        0.09\n",
       "5                   5   96864.16        0.07\n",
       "6                   6   79033.35        0.06\n",
       "7                   7   59964.39        0.05\n",
       "8                   8   50471.89        0.04\n",
       "9                   9   41648.38        0.03\n",
       "10                 10   33563.97        0.03"
      ]
     },
     "execution_count": 11,
     "metadata": {},
     "output_type": "execute_result"
    }
   ],
   "source": [
    "# Grouping the data by 'year_as_customer' and summing the 'revenue' for each customer\n",
    "year_revenue = df_cleaned.groupby('years_as_customer')['revenue'].sum().reset_index()\n",
    "year_revenue['proportion'] = round(year_revenue['revenue'] / year_revenue['revenue'].sum(), 2)\n",
    "# Sorting the revenue by thee year as costumer cin descending order\n",
    "year_revenue = year_revenue.sort_values(by='revenue', ascending=False)\n",
    "\n",
    "# Displaying the top 10 data by revenue contribution\n",
    "year_revenue.head(11) \n",
    "\n",
    "\n",
    "#saving into a csv file to be used in the visualization part\n",
    "year_revenue.to_csv('years_as_customers_revenue.csv', index=False)"
   ]
  },
  {
   "cell_type": "code",
   "execution_count": 14,
   "metadata": {},
   "outputs": [
    {
     "data": {
      "text/html": [
       "<div>\n",
       "<style scoped>\n",
       "    .dataframe tbody tr th:only-of-type {\n",
       "        vertical-align: middle;\n",
       "    }\n",
       "\n",
       "    .dataframe tbody tr th {\n",
       "        vertical-align: top;\n",
       "    }\n",
       "\n",
       "    .dataframe thead th {\n",
       "        text-align: right;\n",
       "    }\n",
       "</style>\n",
       "<table border=\"1\" class=\"dataframe\">\n",
       "  <thead>\n",
       "    <tr style=\"text-align: right;\">\n",
       "      <th></th>\n",
       "      <th>years_as_customer</th>\n",
       "      <th>revenue</th>\n",
       "      <th>proportion</th>\n",
       "    </tr>\n",
       "  </thead>\n",
       "  <tbody>\n",
       "    <tr>\n",
       "      <th>34</th>\n",
       "      <td>34</td>\n",
       "      <td>599.76</td>\n",
       "      <td>0.0</td>\n",
       "    </tr>\n",
       "    <tr>\n",
       "      <th>30</th>\n",
       "      <td>30</td>\n",
       "      <td>577.14</td>\n",
       "      <td>0.0</td>\n",
       "    </tr>\n",
       "    <tr>\n",
       "      <th>31</th>\n",
       "      <td>31</td>\n",
       "      <td>558.79</td>\n",
       "      <td>0.0</td>\n",
       "    </tr>\n",
       "    <tr>\n",
       "      <th>29</th>\n",
       "      <td>29</td>\n",
       "      <td>466.99</td>\n",
       "      <td>0.0</td>\n",
       "    </tr>\n",
       "    <tr>\n",
       "      <th>35</th>\n",
       "      <td>35</td>\n",
       "      <td>359.60</td>\n",
       "      <td>0.0</td>\n",
       "    </tr>\n",
       "    <tr>\n",
       "      <th>32</th>\n",
       "      <td>32</td>\n",
       "      <td>322.37</td>\n",
       "      <td>0.0</td>\n",
       "    </tr>\n",
       "    <tr>\n",
       "      <th>36</th>\n",
       "      <td>36</td>\n",
       "      <td>267.22</td>\n",
       "      <td>0.0</td>\n",
       "    </tr>\n",
       "    <tr>\n",
       "      <th>37</th>\n",
       "      <td>37</td>\n",
       "      <td>227.85</td>\n",
       "      <td>0.0</td>\n",
       "    </tr>\n",
       "    <tr>\n",
       "      <th>39</th>\n",
       "      <td>39</td>\n",
       "      <td>186.90</td>\n",
       "      <td>0.0</td>\n",
       "    </tr>\n",
       "    <tr>\n",
       "      <th>38</th>\n",
       "      <td>38</td>\n",
       "      <td>133.98</td>\n",
       "      <td>0.0</td>\n",
       "    </tr>\n",
       "  </tbody>\n",
       "</table>\n",
       "</div>"
      ],
      "text/plain": [
       "    years_as_customer  revenue  proportion\n",
       "34                 34   599.76         0.0\n",
       "30                 30   577.14         0.0\n",
       "31                 31   558.79         0.0\n",
       "29                 29   466.99         0.0\n",
       "35                 35   359.60         0.0\n",
       "32                 32   322.37         0.0\n",
       "36                 36   267.22         0.0\n",
       "37                 37   227.85         0.0\n",
       "39                 39   186.90         0.0\n",
       "38                 38   133.98         0.0"
      ]
     },
     "execution_count": 14,
     "metadata": {},
     "output_type": "execute_result"
    }
   ],
   "source": [
    "#displaying the last 10 data by revenue contribution\n",
    "year_revenue.tail(10)"
   ]
  },
  {
   "cell_type": "code",
   "execution_count": 13,
   "metadata": {},
   "outputs": [
    {
     "data": {
      "image/png": "[encoded data removed]",
      "text/plain": [
       "<Figure size 432x288 with 1 Axes>"
      ]
     },
     "metadata": {
      "needs_background": "light"
     },
     "output_type": "display_data"
    }
   ],
   "source": [
    "#Ploting the 'year_revenue' using a line plot \n",
    "sns.lineplot(data=year_revenue, x=\"years_as_customer\", y=\"revenue\")\n",
    "plt.show()"
   ]
  },
  {
   "cell_type": "code",
   "execution_count": 7,
   "metadata": {},
   "outputs": [
    {
     "data": {
      "text/html": [
       "<div>\n",
       "<style scoped>\n",
       "    .dataframe tbody tr th:only-of-type {\n",
       "        vertical-align: middle;\n",
       "    }\n",
       "\n",
       "    .dataframe tbody tr th {\n",
       "        vertical-align: top;\n",
       "    }\n",
       "\n",
       "    .dataframe thead th {\n",
       "        text-align: right;\n",
       "    }\n",
       "</style>\n",
       "<table border=\"1\" class=\"dataframe\">\n",
       "  <thead>\n",
       "    <tr style=\"text-align: right;\">\n",
       "      <th></th>\n",
       "      <th>customer_category</th>\n",
       "      <th>revenue</th>\n",
       "      <th>proportion</th>\n",
       "    </tr>\n",
       "  </thead>\n",
       "  <tbody>\n",
       "    <tr>\n",
       "      <th>2</th>\n",
       "      <td>New</td>\n",
       "      <td>795209.16</td>\n",
       "      <td>0.61</td>\n",
       "    </tr>\n",
       "    <tr>\n",
       "      <th>1</th>\n",
       "      <td>Loyal</td>\n",
       "      <td>327982.17</td>\n",
       "      <td>0.25</td>\n",
       "    </tr>\n",
       "    <tr>\n",
       "      <th>0</th>\n",
       "      <td>Long-term</td>\n",
       "      <td>184798.99</td>\n",
       "      <td>0.14</td>\n",
       "    </tr>\n",
       "  </tbody>\n",
       "</table>\n",
       "</div>"
      ],
      "text/plain": [
       "  customer_category    revenue  proportion\n",
       "2               New  795209.16        0.61\n",
       "1             Loyal  327982.17        0.25\n",
       "0         Long-term  184798.99        0.14"
      ]
     },
     "execution_count": 7,
     "metadata": {},
     "output_type": "execute_result"
    }
   ],
   "source": [
    "#Creating categories base on years as customer ('new', 'loyal, 'long-term')\n",
    "def customer_category(years):\n",
    "    if years < 5:\n",
    "        return 'New'\n",
    "    elif years >= 5 and years < 10:\n",
    "        return 'Loyal'\n",
    "    else:\n",
    "        return 'Long-term'\n",
    " \n",
    " #Applying the function to the 'years_as_customer' column and creating a new column called 'customer_category'\n",
    "df_cleaned['customer_category'] = df_cleaned['years_as_customer'].apply(customer_category)\n",
    "\n",
    "#Grouping the data by 'customer_category' and summing the 'revenue' for each customer\n",
    "category_revenue = df_cleaned.groupby('customer_category')['revenue'].sum().reset_index()\n",
    "category_revenue['proportion'] = round(category_revenue['revenue'] / category_revenue['revenue'].sum(), 2)\n",
    "#Sorting the revenue by the 'customer_category' column in descending order\n",
    "category_revenue = category_revenue.sort_values(by='revenue', ascending=False)\n",
    "\n",
    "#Displaying the top 10 data by revenue contribution\n",
    "category_revenue.head(11)\n",
    "\n"
   ]
  },
  {
   "cell_type": "code",
   "execution_count": null,
   "metadata": {},
   "outputs": [
    {
     "data": {
      "image/png": "[encoded data removed]",
      "text/plain": [
       "<Figure size 432x288 with 1 Axes>"
      ]
     },
     "metadata": {
      "needs_background": "light"
     },
     "output_type": "display_data"
    }
   ],
   "source": [
    "#ploting the 'category_revenue' using a bar plot\n",
    "sns.barplot(data=category_revenue, x=\"customer_category\", y=\"revenue\")\n",
    "plt.show()"
   ]
  },
  {
   "cell_type": "markdown",
   "metadata": {},
   "source": [
    "By putting together, the revenue contribution by year as a customer, we discovered that the first five years are the most important in terms of sales contribution, representing more than 60% the total revenue, a total of U$ 795,209 dollars. The new customers are more likely to purchase from Pen and Printers. \n",
    "\n",
    "From 5 to 10 years, we still have some import contributions (25% of the total revenue, or US 327,982 dollars). However, we clearly see that the numbers are dropping year by year on the “loyal” customer category. After ten years, or “Long-Term” customers, the revenue contribution hardly goes above U$ 500 hundred dollars and they are responsible for 14% of the total revenue (U$ 184,798)\n"
   ]
  },
  {
   "cell_type": "code",
   "execution_count": 20,
   "metadata": {},
   "outputs": [
    {
     "data": {
      "text/html": [
       "<div>\n",
       "<style scoped>\n",
       "    .dataframe tbody tr th:only-of-type {\n",
       "        vertical-align: middle;\n",
       "    }\n",
       "\n",
       "    .dataframe tbody tr th {\n",
       "        vertical-align: top;\n",
       "    }\n",
       "\n",
       "    .dataframe thead th {\n",
       "        text-align: right;\n",
       "    }\n",
       "</style>\n",
       "<table border=\"1\" class=\"dataframe\">\n",
       "  <thead>\n",
       "    <tr style=\"text-align: right;\">\n",
       "      <th></th>\n",
       "      <th>sales_method</th>\n",
       "      <th>nb_site_visits</th>\n",
       "      <th>proportion</th>\n",
       "    </tr>\n",
       "  </thead>\n",
       "  <tbody>\n",
       "    <tr>\n",
       "      <th>1</th>\n",
       "      <td>Email</td>\n",
       "      <td>171185</td>\n",
       "      <td>0.49</td>\n",
       "    </tr>\n",
       "    <tr>\n",
       "      <th>0</th>\n",
       "      <td>Call</td>\n",
       "      <td>116736</td>\n",
       "      <td>0.34</td>\n",
       "    </tr>\n",
       "    <tr>\n",
       "      <th>2</th>\n",
       "      <td>Email + Call</td>\n",
       "      <td>59440</td>\n",
       "      <td>0.17</td>\n",
       "    </tr>\n",
       "  </tbody>\n",
       "</table>\n",
       "</div>"
      ],
      "text/plain": [
       "   sales_method  nb_site_visits  proportion\n",
       "1         Email          171185        0.49\n",
       "0          Call          116736        0.34\n",
       "2  Email + Call           59440        0.17"
      ]
     },
     "execution_count": 20,
     "metadata": {},
     "output_type": "execute_result"
    }
   ],
   "source": [
    "# Grouping the data by method and summing the number of visits on the website for each customer\n",
    "method_visits = df_cleaned.groupby('sales_method')['nb_site_visits'].sum().reset_index()\n",
    "method_visits['proportion'] = round(method_visits['nb_site_visits'] / method_visits['nb_site_visits'].sum(), 2)\n",
    "# Sorting the number of visits by the sales method in descending order\n",
    "method_visits = method_visits.sort_values(by='nb_site_visits', ascending=False)\n",
    "\n",
    "# Displaying the top 10 data by the number of visits\n",
    "method_visits.head(11) \n",
    "\n",
    "#saving into a csv file to be used in the visualization part\n",
    "method_visits.to_csv('method_visits.csv', index=False)"
   ]
  },
  {
   "cell_type": "code",
   "execution_count": 18,
   "metadata": {},
   "outputs": [
    {
     "data": {
      "image/png": "[encoded data removed]",
      "text/plain": [
       "<Figure size 432x288 with 1 Axes>"
      ]
     },
     "metadata": {
      "needs_background": "light"
     },
     "output_type": "display_data"
    }
   ],
   "source": [
    "#ploting the 'method_visits' using a bar plot\n",
    "sns.barplot(data=method_visits, x=\"sales_method\", y=\"nb_site_visits\")\n",
    "plt.show()"
   ]
  },
  {
   "cell_type": "markdown",
   "metadata": {},
   "source": [
    "Lastly, the sales method which resulted in more visits to the website of Pens and Printers is Email, with almost half of the total visits (more than 171 thousand visits). The Call method comes in second place with more than 116 thousand visits, representing 35%, and Email + Call represents only 17% of the total visits, nearly 60 thousand. "
   ]
  },
  {
   "cell_type": "code",
   "execution_count": 15,
   "metadata": {},
   "outputs": [
    {
     "data": {
      "text/html": [
       "<div>\n",
       "<style scoped>\n",
       "    .dataframe tbody tr th:only-of-type {\n",
       "        vertical-align: middle;\n",
       "    }\n",
       "\n",
       "    .dataframe tbody tr th {\n",
       "        vertical-align: top;\n",
       "    }\n",
       "\n",
       "    .dataframe thead th {\n",
       "        text-align: right;\n",
       "    }\n",
       "</style>\n",
       "<table border=\"1\" class=\"dataframe\">\n",
       "  <thead>\n",
       "    <tr style=\"text-align: right;\">\n",
       "      <th></th>\n",
       "      <th>week</th>\n",
       "      <th>sales_method</th>\n",
       "      <th>nb_sold</th>\n",
       "      <th>revenue</th>\n",
       "      <th>years_as_customer</th>\n",
       "      <th>nb_site_visits</th>\n",
       "      <th>state</th>\n",
       "      <th>revenue_per_item</th>\n",
       "      <th>customer_id</th>\n",
       "      <th>customer_category</th>\n",
       "    </tr>\n",
       "  </thead>\n",
       "  <tbody>\n",
       "    <tr>\n",
       "      <th>7172</th>\n",
       "      <td>2</td>\n",
       "      <td>Email</td>\n",
       "      <td>9</td>\n",
       "      <td>94.62</td>\n",
       "      <td>0</td>\n",
       "      <td>17</td>\n",
       "      <td>Texas</td>\n",
       "      <td>10.51</td>\n",
       "      <td>fb295688-7a03-4985-a5be-0022f1c19ed3</td>\n",
       "      <td>New</td>\n",
       "    </tr>\n",
       "    <tr>\n",
       "      <th>13286</th>\n",
       "      <td>3</td>\n",
       "      <td>Call</td>\n",
       "      <td>8</td>\n",
       "      <td>41.41</td>\n",
       "      <td>1</td>\n",
       "      <td>23</td>\n",
       "      <td>Pennsylvania</td>\n",
       "      <td>5.18</td>\n",
       "      <td>fe74d9e9-a140-4f1a-ad2a-7f9e7103361a</td>\n",
       "      <td>New</td>\n",
       "    </tr>\n",
       "    <tr>\n",
       "      <th>4464</th>\n",
       "      <td>4</td>\n",
       "      <td>Call</td>\n",
       "      <td>10</td>\n",
       "      <td>49.64</td>\n",
       "      <td>1</td>\n",
       "      <td>20</td>\n",
       "      <td>California</td>\n",
       "      <td>4.96</td>\n",
       "      <td>a14675be-ac90-4006-b4bb-1ddf79573ec4</td>\n",
       "      <td>New</td>\n",
       "    </tr>\n",
       "    <tr>\n",
       "      <th>12263</th>\n",
       "      <td>1</td>\n",
       "      <td>Call</td>\n",
       "      <td>7</td>\n",
       "      <td>35.44</td>\n",
       "      <td>10</td>\n",
       "      <td>20</td>\n",
       "      <td>New Jersey</td>\n",
       "      <td>5.06</td>\n",
       "      <td>bc3ebe88-72ac-4a9e-a015-5ee25aa5a0d2</td>\n",
       "      <td>Long-term</td>\n",
       "    </tr>\n",
       "    <tr>\n",
       "      <th>7880</th>\n",
       "      <td>1</td>\n",
       "      <td>Call</td>\n",
       "      <td>7</td>\n",
       "      <td>34.38</td>\n",
       "      <td>4</td>\n",
       "      <td>20</td>\n",
       "      <td>Missouri</td>\n",
       "      <td>4.91</td>\n",
       "      <td>8c78470c-a092-44d1-9aff-5abfeb4ae670</td>\n",
       "      <td>New</td>\n",
       "    </tr>\n",
       "    <tr>\n",
       "      <th>4253</th>\n",
       "      <td>3</td>\n",
       "      <td>Email + Call</td>\n",
       "      <td>10</td>\n",
       "      <td>146.29</td>\n",
       "      <td>2</td>\n",
       "      <td>22</td>\n",
       "      <td>Arizona</td>\n",
       "      <td>14.63</td>\n",
       "      <td>875e0c11-0196-471b-bb85-ba0130c660fc</td>\n",
       "      <td>New</td>\n",
       "    </tr>\n",
       "    <tr>\n",
       "      <th>9287</th>\n",
       "      <td>4</td>\n",
       "      <td>Call</td>\n",
       "      <td>11</td>\n",
       "      <td>54.10</td>\n",
       "      <td>5</td>\n",
       "      <td>30</td>\n",
       "      <td>Pennsylvania</td>\n",
       "      <td>4.92</td>\n",
       "      <td>4b6e3eac-f44a-4cce-b451-407f52f3efd2</td>\n",
       "      <td>Loyal</td>\n",
       "    </tr>\n",
       "    <tr>\n",
       "      <th>2017</th>\n",
       "      <td>4</td>\n",
       "      <td>Email + Call</td>\n",
       "      <td>12</td>\n",
       "      <td>181.31</td>\n",
       "      <td>3</td>\n",
       "      <td>23</td>\n",
       "      <td>Florida</td>\n",
       "      <td>15.11</td>\n",
       "      <td>f95ca377-25ff-40e7-926c-c2da3bec1c08</td>\n",
       "      <td>New</td>\n",
       "    </tr>\n",
       "    <tr>\n",
       "      <th>1367</th>\n",
       "      <td>6</td>\n",
       "      <td>Email + Call</td>\n",
       "      <td>15</td>\n",
       "      <td>228.77</td>\n",
       "      <td>9</td>\n",
       "      <td>27</td>\n",
       "      <td>New York</td>\n",
       "      <td>15.25</td>\n",
       "      <td>6f5135f3-76d2-4d46-b966-6454662cca16</td>\n",
       "      <td>Loyal</td>\n",
       "    </tr>\n",
       "    <tr>\n",
       "      <th>9867</th>\n",
       "      <td>3</td>\n",
       "      <td>Email</td>\n",
       "      <td>9</td>\n",
       "      <td>92.33</td>\n",
       "      <td>8</td>\n",
       "      <td>22</td>\n",
       "      <td>Ohio</td>\n",
       "      <td>10.26</td>\n",
       "      <td>646470fc-7c49-4cfc-9831-4c620cb9b728</td>\n",
       "      <td>Loyal</td>\n",
       "    </tr>\n",
       "  </tbody>\n",
       "</table>\n",
       "</div>"
      ],
      "text/plain": [
       "       week  sales_method  nb_sold  revenue  years_as_customer  \\\n",
       "7172      2         Email        9    94.62                  0   \n",
       "13286     3          Call        8    41.41                  1   \n",
       "4464      4          Call       10    49.64                  1   \n",
       "12263     1          Call        7    35.44                 10   \n",
       "7880      1          Call        7    34.38                  4   \n",
       "4253      3  Email + Call       10   146.29                  2   \n",
       "9287      4          Call       11    54.10                  5   \n",
       "2017      4  Email + Call       12   181.31                  3   \n",
       "1367      6  Email + Call       15   228.77                  9   \n",
       "9867      3         Email        9    92.33                  8   \n",
       "\n",
       "       nb_site_visits         state  revenue_per_item  \\\n",
       "7172               17         Texas             10.51   \n",
       "13286              23  Pennsylvania              5.18   \n",
       "4464               20    California              4.96   \n",
       "12263              20    New Jersey              5.06   \n",
       "7880               20      Missouri              4.91   \n",
       "4253               22       Arizona             14.63   \n",
       "9287               30  Pennsylvania              4.92   \n",
       "2017               23       Florida             15.11   \n",
       "1367               27      New York             15.25   \n",
       "9867               22          Ohio             10.26   \n",
       "\n",
       "                                customer_id customer_category  \n",
       "7172   fb295688-7a03-4985-a5be-0022f1c19ed3               New  \n",
       "13286  fe74d9e9-a140-4f1a-ad2a-7f9e7103361a               New  \n",
       "4464   a14675be-ac90-4006-b4bb-1ddf79573ec4               New  \n",
       "12263  bc3ebe88-72ac-4a9e-a015-5ee25aa5a0d2         Long-term  \n",
       "7880   8c78470c-a092-44d1-9aff-5abfeb4ae670               New  \n",
       "4253   875e0c11-0196-471b-bb85-ba0130c660fc               New  \n",
       "9287   4b6e3eac-f44a-4cce-b451-407f52f3efd2             Loyal  \n",
       "2017   f95ca377-25ff-40e7-926c-c2da3bec1c08               New  \n",
       "1367   6f5135f3-76d2-4d46-b966-6454662cca16             Loyal  \n",
       "9867   646470fc-7c49-4cfc-9831-4c620cb9b728             Loyal  "
      ]
     },
     "execution_count": 15,
     "metadata": {},
     "output_type": "execute_result"
    }
   ],
   "source": [
    "df_cleaned.sample(10)"
   ]
  }
 ],
 "metadata": {
  "kernelspec": {
   "display_name": "base",
   "language": "python",
   "name": "python3"
  },
  "language_info": {
   "codemirror_mode": {
    "name": "ipython",
    "version": 3
   },
   "file_extension": ".py",
   "mimetype": "text/x-python",
   "name": "python",
   "nbconvert_exporter": "python",
   "pygments_lexer": "ipython3",
   "version": "3.8.5"
  }
 },
 "nbformat": 4,
 "nbformat_minor": 2
}
