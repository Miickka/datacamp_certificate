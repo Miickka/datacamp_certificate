{
 "cells": [
  {
   "cell_type": "markdown",
   "metadata": {},
   "source": [
    "# Case study - Datacamp Professional Certificate\n",
    "\n",
    "\n",
    "In this pratical exam, I must act as a Data Analyst and perform an analysis for \"Pens and Printers\" based on the on the email below. It is expected a Written Report and a video presentation up to 10 minutes long. \n",
    "\n",
    "\n",
    "### Business Task\n",
    "<i>Hi,\n",
    "Really hoping you could help me out with some analysis. This is quite short notice but I have\n",
    "a meeting with the executive team to update them on sales approaches for the new\n",
    "product line so I need this information as soon as possible.\n",
    "\n",
    "We need to know:\n",
    "- How many customers were there for each approach?\n",
    "- What does the spread of the revenue look like overall? And for each method?\n",
    "- Was there any difference in revenue over time for each of the methods?\n",
    "- Based on the data, which method would you recommend we continue to use? Some\n",
    "of these methods take more time from the team so they may not be the best for us\n",
    "to use if the results are similar.\n",
    "We don’t really know if there are other differences between the customers in each group, so\n",
    "anything you can tell us would be really helpful to give some context to what went well.</i>\n",
    "\n",
    "### About Pens and Printers\n",
    "Pens and Printers was founded in 1984 and provides high quality office products to large\n",
    "organizations. We are a trusted provider of everything from pens and notebooks to desk\n",
    "chairs and monitors. We don’t produce our own products but sell those made by other\n",
    "companies.\n",
    "We have built long lasting relationships with our customers and they trust us to provide them\n",
    "with the best products for them. As the way in which consumers buy products is changing,\n",
    "our sales tactics have to change too. Launching a new product line is expensive and we need\n",
    "to make sure we are using the best techniques to sell the new product effectively. The best\n",
    "approach may vary for each new product so we need to learn quickly what works and what\n",
    "doesn’t.\n",
    "\n",
    "### New Product Sales Methods\n",
    "Six weeks ago we launched a new line of office stationery. Despite the world becoming\n",
    "increasingly digital, there is still demand for notebooks, pens and sticky notes.\n",
    "Our focus has been on selling products to enable our customers to be more creative, focused\n",
    "on tools for brainstorming. We have tested three different sales strategies for this, targeted\n",
    "email and phone calls, as well as combining the two.\n",
    "Email: Customers in this group received an email when the product line was launched, and a\n",
    "further email three weeks later. This required very little work for the team.\n",
    "Call: Customers in this group were called by a member of the sales team. On average\n",
    "members of the team were on the phone for around thirty minutes per customer.\n",
    "Email and call: Customers in this group were first sent the product information email, then\n",
    "called a week later by the sales team to talk about their needs and how this new product\n",
    "may support their work. The email required little work from the team, the call was around ten\n",
    "minutes per customer"
   ]
  },
  {
   "cell_type": "markdown",
   "metadata": {},
   "source": [
    "Since the data is in a single .csv file, let's import it to assess the data's integrity"
   ]
  },
  {
   "cell_type": "code",
   "execution_count": 1,
   "metadata": {},
   "outputs": [
    {
     "data": {
      "text/html": [
       "<div>\n",
       "<style scoped>\n",
       "    .dataframe tbody tr th:only-of-type {\n",
       "        vertical-align: middle;\n",
       "    }\n",
       "\n",
       "    .dataframe tbody tr th {\n",
       "        vertical-align: top;\n",
       "    }\n",
       "\n",
       "    .dataframe thead th {\n",
       "        text-align: right;\n",
       "    }\n",
       "</style>\n",
       "<table border=\"1\" class=\"dataframe\">\n",
       "  <thead>\n",
       "    <tr style=\"text-align: right;\">\n",
       "      <th></th>\n",
       "      <th>week</th>\n",
       "      <th>sales_method</th>\n",
       "      <th>customer_id</th>\n",
       "      <th>nb_sold</th>\n",
       "      <th>revenue</th>\n",
       "      <th>years_as_customer</th>\n",
       "      <th>nb_site_visits</th>\n",
       "      <th>state</th>\n",
       "    </tr>\n",
       "  </thead>\n",
       "  <tbody>\n",
       "    <tr>\n",
       "      <th>10724</th>\n",
       "      <td>3</td>\n",
       "      <td>Email + Call</td>\n",
       "      <td>a3b30dac-122c-4900-9545-bf6ae2df6b59</td>\n",
       "      <td>10</td>\n",
       "      <td>152.62</td>\n",
       "      <td>2</td>\n",
       "      <td>25</td>\n",
       "      <td>Indiana</td>\n",
       "    </tr>\n",
       "  </tbody>\n",
       "</table>\n",
       "</div>"
      ],
      "text/plain": [
       "       week  sales_method                           customer_id  nb_sold  \\\n",
       "10724     3  Email + Call  a3b30dac-122c-4900-9545-bf6ae2df6b59       10   \n",
       "\n",
       "       revenue  years_as_customer  nb_site_visits    state  \n",
       "10724   152.62                  2              25  Indiana  "
      ]
     },
     "execution_count": 1,
     "metadata": {},
     "output_type": "execute_result"
    }
   ],
   "source": [
    "import pandas as pd \n",
    "#read the file using pandas and assign it into a variable\n",
    "df = pd.read_csv(\"product_sales.csv\", sep=\",\")\n",
    "df.sample()"
   ]
  },
  {
   "cell_type": "code",
   "execution_count": 2,
   "metadata": {},
   "outputs": [
    {
     "data": {
      "text/plain": [
       "(15000, 8)"
      ]
     },
     "execution_count": 2,
     "metadata": {},
     "output_type": "execute_result"
    }
   ],
   "source": [
    "#Get the shape of the dataframe\n",
    "df.shape"
   ]
  },
  {
   "cell_type": "markdown",
   "metadata": {},
   "source": [
    "### **Data's integrity**\n",
    "\n",
    "Before cleaning the data, we must assess the consistency/integrity of the data. To do so, we will check for:\n",
    "1. Missing Values\n",
    "2. Check for Duplicates\n",
    "3. Validate Data Types \n",
    "4. Assess Data Consistency\n",
    "5. Validate Referential Integrity\n",
    "6. Examine Statistical Summaries\n",
    "7. Check for Data Anomalies or Outliers\n"
   ]
  },
  {
   "cell_type": "code",
   "execution_count": 3,
   "metadata": {},
   "outputs": [
    {
     "name": "stdout",
     "output_type": "stream",
     "text": [
      "week                    0\n",
      "sales_method            0\n",
      "customer_id             0\n",
      "nb_sold                 0\n",
      "revenue              1074\n",
      "years_as_customer       0\n",
      "nb_site_visits          0\n",
      "state                   0\n",
      "dtype: int64\n"
     ]
    }
   ],
   "source": [
    "#1 Checking for missing values\n",
    "missing_values = df.isnull().sum()\n",
    "print(missing_values)"
   ]
  },
  {
   "cell_type": "markdown",
   "metadata": {},
   "source": [
    "We can see that the \"revenue\" columns contain more than one thousand rows that were not populated. Since this is an important column and will not be dropped, it's important to check it more in detail to decide what to do next. "
   ]
  },
  {
   "cell_type": "code",
   "execution_count": 4,
   "metadata": {},
   "outputs": [
    {
     "data": {
      "text/html": [
       "<div>\n",
       "<style scoped>\n",
       "    .dataframe tbody tr th:only-of-type {\n",
       "        vertical-align: middle;\n",
       "    }\n",
       "\n",
       "    .dataframe tbody tr th {\n",
       "        vertical-align: top;\n",
       "    }\n",
       "\n",
       "    .dataframe thead th {\n",
       "        text-align: right;\n",
       "    }\n",
       "</style>\n",
       "<table border=\"1\" class=\"dataframe\">\n",
       "  <thead>\n",
       "    <tr style=\"text-align: right;\">\n",
       "      <th></th>\n",
       "      <th>week</th>\n",
       "      <th>sales_method</th>\n",
       "      <th>customer_id</th>\n",
       "      <th>nb_sold</th>\n",
       "      <th>revenue</th>\n",
       "      <th>years_as_customer</th>\n",
       "      <th>nb_site_visits</th>\n",
       "      <th>state</th>\n",
       "    </tr>\n",
       "  </thead>\n",
       "  <tbody>\n",
       "    <tr>\n",
       "      <th>7982</th>\n",
       "      <td>2</td>\n",
       "      <td>Email</td>\n",
       "      <td>f2d9cdda-c729-4750-92e3-a795ccfc99fb</td>\n",
       "      <td>10</td>\n",
       "      <td>NaN</td>\n",
       "      <td>6</td>\n",
       "      <td>27</td>\n",
       "      <td>Illinois</td>\n",
       "    </tr>\n",
       "    <tr>\n",
       "      <th>10209</th>\n",
       "      <td>1</td>\n",
       "      <td>Email + Call</td>\n",
       "      <td>f8ebbf5a-d93c-491a-8213-b9caa4519180</td>\n",
       "      <td>9</td>\n",
       "      <td>NaN</td>\n",
       "      <td>9</td>\n",
       "      <td>24</td>\n",
       "      <td>Ohio</td>\n",
       "    </tr>\n",
       "    <tr>\n",
       "      <th>11867</th>\n",
       "      <td>3</td>\n",
       "      <td>Email</td>\n",
       "      <td>195c2778-26d6-4f31-a057-15a724f36198</td>\n",
       "      <td>10</td>\n",
       "      <td>NaN</td>\n",
       "      <td>2</td>\n",
       "      <td>25</td>\n",
       "      <td>Mississippi</td>\n",
       "    </tr>\n",
       "    <tr>\n",
       "      <th>11753</th>\n",
       "      <td>5</td>\n",
       "      <td>Email</td>\n",
       "      <td>c842d409-7143-4b04-9daf-226d8d55c453</td>\n",
       "      <td>10</td>\n",
       "      <td>NaN</td>\n",
       "      <td>7</td>\n",
       "      <td>22</td>\n",
       "      <td>California</td>\n",
       "    </tr>\n",
       "    <tr>\n",
       "      <th>14527</th>\n",
       "      <td>5</td>\n",
       "      <td>Email + Call</td>\n",
       "      <td>d0f42f8b-92a4-4860-b035-e167ff9422ad</td>\n",
       "      <td>12</td>\n",
       "      <td>NaN</td>\n",
       "      <td>1</td>\n",
       "      <td>29</td>\n",
       "      <td>Maryland</td>\n",
       "    </tr>\n",
       "    <tr>\n",
       "      <th>8471</th>\n",
       "      <td>1</td>\n",
       "      <td>Email</td>\n",
       "      <td>4b45b7ca-96e4-4536-8746-1d5467b0bdb4</td>\n",
       "      <td>9</td>\n",
       "      <td>NaN</td>\n",
       "      <td>2</td>\n",
       "      <td>31</td>\n",
       "      <td>Missouri</td>\n",
       "    </tr>\n",
       "    <tr>\n",
       "      <th>5435</th>\n",
       "      <td>1</td>\n",
       "      <td>Call</td>\n",
       "      <td>deb6fd0a-afdd-4611-b4b3-71da005ec15c</td>\n",
       "      <td>7</td>\n",
       "      <td>NaN</td>\n",
       "      <td>2</td>\n",
       "      <td>17</td>\n",
       "      <td>California</td>\n",
       "    </tr>\n",
       "    <tr>\n",
       "      <th>6539</th>\n",
       "      <td>2</td>\n",
       "      <td>Email</td>\n",
       "      <td>eae94bc8-5b3c-46c4-80bc-d35d72671585</td>\n",
       "      <td>10</td>\n",
       "      <td>NaN</td>\n",
       "      <td>2</td>\n",
       "      <td>24</td>\n",
       "      <td>New Hampshire</td>\n",
       "    </tr>\n",
       "    <tr>\n",
       "      <th>10935</th>\n",
       "      <td>4</td>\n",
       "      <td>Email</td>\n",
       "      <td>87ab3372-6236-466c-bd20-4acafec5ae9b</td>\n",
       "      <td>11</td>\n",
       "      <td>NaN</td>\n",
       "      <td>1</td>\n",
       "      <td>29</td>\n",
       "      <td>Michigan</td>\n",
       "    </tr>\n",
       "    <tr>\n",
       "      <th>806</th>\n",
       "      <td>5</td>\n",
       "      <td>Call</td>\n",
       "      <td>76b273d4-a2e9-4f94-93c8-4cfef2d97581</td>\n",
       "      <td>11</td>\n",
       "      <td>NaN</td>\n",
       "      <td>2</td>\n",
       "      <td>21</td>\n",
       "      <td>Tennessee</td>\n",
       "    </tr>\n",
       "  </tbody>\n",
       "</table>\n",
       "</div>"
      ],
      "text/plain": [
       "       week  sales_method                           customer_id  nb_sold  \\\n",
       "7982      2         Email  f2d9cdda-c729-4750-92e3-a795ccfc99fb       10   \n",
       "10209     1  Email + Call  f8ebbf5a-d93c-491a-8213-b9caa4519180        9   \n",
       "11867     3         Email  195c2778-26d6-4f31-a057-15a724f36198       10   \n",
       "11753     5         Email  c842d409-7143-4b04-9daf-226d8d55c453       10   \n",
       "14527     5  Email + Call  d0f42f8b-92a4-4860-b035-e167ff9422ad       12   \n",
       "8471      1         Email  4b45b7ca-96e4-4536-8746-1d5467b0bdb4        9   \n",
       "5435      1          Call  deb6fd0a-afdd-4611-b4b3-71da005ec15c        7   \n",
       "6539      2         Email  eae94bc8-5b3c-46c4-80bc-d35d72671585       10   \n",
       "10935     4         Email  87ab3372-6236-466c-bd20-4acafec5ae9b       11   \n",
       "806       5          Call  76b273d4-a2e9-4f94-93c8-4cfef2d97581       11   \n",
       "\n",
       "       revenue  years_as_customer  nb_site_visits          state  \n",
       "7982       NaN                  6              27       Illinois  \n",
       "10209      NaN                  9              24           Ohio  \n",
       "11867      NaN                  2              25    Mississippi  \n",
       "11753      NaN                  7              22     California  \n",
       "14527      NaN                  1              29       Maryland  \n",
       "8471       NaN                  2              31       Missouri  \n",
       "5435       NaN                  2              17     California  \n",
       "6539       NaN                  2              24  New Hampshire  \n",
       "10935      NaN                  1              29       Michigan  \n",
       "806        NaN                  2              21      Tennessee  "
      ]
     },
     "execution_count": 4,
     "metadata": {},
     "output_type": "execute_result"
    }
   ],
   "source": [
    "revenue_missing = df['revenue'].isnull()\n",
    "#Filtering the missing values from the 'revenue' column \n",
    "df_missing = df[revenue_missing]\n",
    "df_missing.sample(10)"
   ]
  },
  {
   "cell_type": "markdown",
   "metadata": {},
   "source": [
    "Let's see if the missing values grouping by sales_method\n",
    "\n"
   ]
  },
  {
   "cell_type": "code",
   "execution_count": 5,
   "metadata": {},
   "outputs": [
    {
     "data": {
      "text/plain": [
       "sales_method\n",
       "Call            181\n",
       "Email           541\n",
       "Email + Call    346\n",
       "em + call         3\n",
       "email             3\n",
       "dtype: int64"
      ]
     },
     "execution_count": 5,
     "metadata": {},
     "output_type": "execute_result"
    }
   ],
   "source": [
    "#Grouping the missing values by 'sales_method' \n",
    "df_missing.groupby('sales_method').size()"
   ]
  },
  {
   "cell_type": "code",
   "execution_count": 6,
   "metadata": {},
   "outputs": [
    {
     "name": "stdout",
     "output_type": "stream",
     "text": [
      "Proportion of missing values in 'call' sales method: 0.04\n",
      "Proportion of missing values in 'email' sales method: 0.07\n",
      "Proportion of missing values in 'email + call' sales method: 0.14\n"
     ]
    }
   ],
   "source": [
    "#Let's calculate the proportion of missing values in each sales method\n",
    "\n",
    "call_prop =  round(df_missing[df_missing['sales_method'] == 'Call'].shape[0] / df[df['sales_method'] == 'Call'].shape[0], 2)\n",
    "email_prop =  round(df_missing[df_missing['sales_method'] == 'Email'].shape[0] / df[df['sales_method'] == 'Email'].shape[0],2)\n",
    "email_call_prop =  round(df_missing[df_missing['sales_method'] == 'Email + Call'].shape[0] / df[df['sales_method'] == 'Email + Call'].shape[0],2)\n",
    "\n",
    "print(f\"Proportion of missing values in 'call' sales method: {call_prop}\")\n",
    "print(f\"Proportion of missing values in 'email' sales method: {email_prop}\")\n",
    "print(f\"Proportion of missing values in 'email + call' sales method: {email_call_prop}\")"
   ]
  },
  {
   "cell_type": "markdown",
   "metadata": {},
   "source": [
    "Since the proportion of missing values if not significant in each method, we can drop the rows with missing values on the 'Revenue' column "
   ]
  },
  {
   "cell_type": "code",
   "execution_count": 7,
   "metadata": {},
   "outputs": [
    {
     "name": "stdout",
     "output_type": "stream",
     "text": [
      "week                 0\n",
      "sales_method         0\n",
      "customer_id          0\n",
      "nb_sold              0\n",
      "revenue              0\n",
      "years_as_customer    0\n",
      "nb_site_visits       0\n",
      "state                0\n",
      "dtype: int64\n"
     ]
    }
   ],
   "source": [
    "#Dropping the missing values from the 'revenue' column\n",
    "df_clean = df.dropna(subset=['revenue'])\n",
    "#Checking again for missing values\n",
    "missing_values = df_clean.isnull().sum()\n",
    "print(missing_values)"
   ]
  },
  {
   "cell_type": "code",
   "execution_count": 8,
   "metadata": {},
   "outputs": [
    {
     "name": "stdout",
     "output_type": "stream",
     "text": [
      "Number of duplicates: 0\n"
     ]
    }
   ],
   "source": [
    "#2. Check for Duplicates\n",
    "duplicates = df_clean.duplicated().sum()\n",
    "print(f\"Number of duplicates: {duplicates}\")"
   ]
  },
  {
   "cell_type": "markdown",
   "metadata": {},
   "source": [
    "There are no duplicates on the dataframe. However, we could see if one customer is present more than once on the 'customer_id' column."
   ]
  },
  {
   "cell_type": "code",
   "execution_count": 9,
   "metadata": {},
   "outputs": [
    {
     "name": "stdout",
     "output_type": "stream",
     "text": [
      "Number of duplicates in 'customer_id' column: 0\n"
     ]
    }
   ],
   "source": [
    "#Checking for duplicates in the 'customer_id' column\n",
    "duplicates_customer_id = df_clean.duplicated(subset=['customer_id']).sum()\n",
    "print(f\"Number of duplicates in 'customer_id' column: {duplicates_customer_id}\")"
   ]
  },
  {
   "cell_type": "markdown",
   "metadata": {},
   "source": [
    "There is no duplicates whatsoever on the dataframe. "
   ]
  },
  {
   "cell_type": "code",
   "execution_count": 10,
   "metadata": {},
   "outputs": [
    {
     "data": {
      "text/plain": [
       "week                   int64\n",
       "sales_method          object\n",
       "customer_id           object\n",
       "nb_sold                int64\n",
       "revenue              float64\n",
       "years_as_customer      int64\n",
       "nb_site_visits         int64\n",
       "state                 object\n",
       "dtype: object"
      ]
     },
     "execution_count": 10,
     "metadata": {},
     "output_type": "execute_result"
    }
   ],
   "source": [
    "#3. Validate Data Types\n",
    "df_clean.dtypes \n"
   ]
  },
  {
   "cell_type": "code",
   "execution_count": 11,
   "metadata": {},
   "outputs": [
    {
     "data": {
      "text/html": [
       "<div>\n",
       "<style scoped>\n",
       "    .dataframe tbody tr th:only-of-type {\n",
       "        vertical-align: middle;\n",
       "    }\n",
       "\n",
       "    .dataframe tbody tr th {\n",
       "        vertical-align: top;\n",
       "    }\n",
       "\n",
       "    .dataframe thead th {\n",
       "        text-align: right;\n",
       "    }\n",
       "</style>\n",
       "<table border=\"1\" class=\"dataframe\">\n",
       "  <thead>\n",
       "    <tr style=\"text-align: right;\">\n",
       "      <th></th>\n",
       "      <th>week</th>\n",
       "      <th>sales_method</th>\n",
       "      <th>customer_id</th>\n",
       "      <th>nb_sold</th>\n",
       "      <th>revenue</th>\n",
       "      <th>years_as_customer</th>\n",
       "      <th>nb_site_visits</th>\n",
       "      <th>state</th>\n",
       "    </tr>\n",
       "  </thead>\n",
       "  <tbody>\n",
       "    <tr>\n",
       "      <th>5261</th>\n",
       "      <td>1</td>\n",
       "      <td>Email</td>\n",
       "      <td>9f13a98f-3b9a-44e0-a03a-367fed753c90</td>\n",
       "      <td>9</td>\n",
       "      <td>87.31</td>\n",
       "      <td>5</td>\n",
       "      <td>27</td>\n",
       "      <td>Arkansas</td>\n",
       "    </tr>\n",
       "  </tbody>\n",
       "</table>\n",
       "</div>"
      ],
      "text/plain": [
       "      week sales_method                           customer_id  nb_sold  \\\n",
       "5261     1        Email  9f13a98f-3b9a-44e0-a03a-367fed753c90        9   \n",
       "\n",
       "      revenue  years_as_customer  nb_site_visits     state  \n",
       "5261    87.31                  5              27  Arkansas  "
      ]
     },
     "execution_count": 11,
     "metadata": {},
     "output_type": "execute_result"
    }
   ],
   "source": [
    "df_clean.sample()"
   ]
  },
  {
   "cell_type": "markdown",
   "metadata": {},
   "source": [
    "Only 'sales_method' and 'state' column should be converted into 'string' types"
   ]
  },
  {
   "cell_type": "code",
   "execution_count": 12,
   "metadata": {},
   "outputs": [
    {
     "name": "stderr",
     "output_type": "stream",
     "text": [
      "<ipython-input-12-c55cd9ac09b5>:5: SettingWithCopyWarning: \n",
      "A value is trying to be set on a copy of a slice from a DataFrame.\n",
      "Try using .loc[row_indexer,col_indexer] = value instead\n",
      "\n",
      "See the caveats in the documentation: https://pandas.pydata.org/pandas-docs/stable/user_guide/indexing.html#returning-a-view-versus-a-copy\n",
      "  df_clean[col] = df_clean[col].astype('string')\n"
     ]
    },
    {
     "data": {
      "text/plain": [
       "week                   int64\n",
       "sales_method          string\n",
       "customer_id           object\n",
       "nb_sold                int64\n",
       "revenue              float64\n",
       "years_as_customer      int64\n",
       "nb_site_visits         int64\n",
       "state                 string\n",
       "dtype: object"
      ]
     },
     "execution_count": 12,
     "metadata": {},
     "output_type": "execute_result"
    }
   ],
   "source": [
    "#Converting 'Sales_method' and 'state'columns from object to string data type\n",
    "cols_to_convert = ['sales_method', 'state']\n",
    "\n",
    "for col in cols_to_convert:\n",
    "    df_clean[col] = df_clean[col].astype('string')  \n",
    "\n",
    "df_clean.dtypes"
   ]
  },
  {
   "cell_type": "code",
   "execution_count": 13,
   "metadata": {},
   "outputs": [
    {
     "data": {
      "text/plain": [
       "array([6, 5, 3, 4, 1, 2], dtype=int64)"
      ]
     },
     "execution_count": 13,
     "metadata": {},
     "output_type": "execute_result"
    }
   ],
   "source": [
    "#4. Assess Data Consistency\n",
    "#Checking for consistency in the 'week' column\n",
    "df_clean['week'].unique()"
   ]
  },
  {
   "cell_type": "code",
   "execution_count": 14,
   "metadata": {},
   "outputs": [
    {
     "data": {
      "text/plain": [
       "<StringArray>\n",
       "['Email + Call', 'Call', 'Email', 'em + call', 'email']\n",
       "Length: 5, dtype: string"
      ]
     },
     "execution_count": 14,
     "metadata": {},
     "output_type": "execute_result"
    }
   ],
   "source": [
    "#'Week' column has values ranging from 1 to 6. Let's check the number of unique values in the column 'sales_method'\n",
    "df_clean['sales_method'].unique()"
   ]
  },
  {
   "cell_type": "markdown",
   "metadata": {},
   "source": [
    "As we had already noted before, there's a problem of consistency in the 'sales_method' colum. Instead of 5 categories, we should reduce it to 3 by merging \"Email + Call' and 'em + call' also 'Email' and 'email'."
   ]
  },
  {
   "cell_type": "code",
   "execution_count": 15,
   "metadata": {},
   "outputs": [
    {
     "name": "stderr",
     "output_type": "stream",
     "text": [
      "<ipython-input-15-f51b7fca8ea5>:2: SettingWithCopyWarning: \n",
      "A value is trying to be set on a copy of a slice from a DataFrame.\n",
      "Try using .loc[row_indexer,col_indexer] = value instead\n",
      "\n",
      "See the caveats in the documentation: https://pandas.pydata.org/pandas-docs/stable/user_guide/indexing.html#returning-a-view-versus-a-copy\n",
      "  df_clean['sales_method'] = df_clean['sales_method'].replace({'em + call': 'Email + Call', 'email': 'Email'})\n"
     ]
    },
    {
     "data": {
      "text/plain": [
       "array(['Email + Call', 'Call', 'Email'], dtype=object)"
      ]
     },
     "execution_count": 15,
     "metadata": {},
     "output_type": "execute_result"
    }
   ],
   "source": [
    "#Fixing the data consistency issue in the 'sales_method' column by replacing 'em + call' with 'Email + Call' and also 'email' with 'Email'\n",
    "df_clean['sales_method'] = df_clean['sales_method'].replace({'em + call': 'Email + Call', 'email': 'Email'})\n",
    "df_clean['sales_method'].unique()"
   ]
  },
  {
   "cell_type": "code",
   "execution_count": 16,
   "metadata": {},
   "outputs": [
    {
     "name": "stdout",
     "output_type": "stream",
     "text": [
      "       week sales_method                           customer_id  nb_sold  \\\n",
      "13741     2        Email  18919515-a618-430c-9a05-2c7d8fea96af       10   \n",
      "13800     4         Call  2ea97d34-571d-4e1b-95be-fea1c404649f       10   \n",
      "\n",
      "       revenue  years_as_customer  nb_site_visits       state  \n",
      "13741    97.22                 63              24  California  \n",
      "13800    50.47                 47              27  California  \n"
     ]
    }
   ],
   "source": [
    "#'Sales_method' column has been fixed. Let's check the number of unique values in the 'years_as_customer' column. \n",
    "# Since Pen and Printers was founded in 1984, there shoudn't be any value less than 40. \n",
    "out_years = df_clean[df_clean['years_as_customer'] > 40]\n",
    "print(out_years)"
   ]
  },
  {
   "cell_type": "code",
   "execution_count": 17,
   "metadata": {},
   "outputs": [
    {
     "data": {
      "text/plain": [
       "array([ 1,  6,  0, 10,  9,  7,  4,  2, 20,  8,  5, 17, 36,  3, 15, 14, 19,\n",
       "       13, 12, 11, 30, 22, 18, 23, 32, 16, 39, 25, 33, 21, 31, 24, 27, 34,\n",
       "       28, 26, 29, 35, 38, 37], dtype=int64)"
      ]
     },
     "execution_count": 17,
     "metadata": {},
     "output_type": "execute_result"
    }
   ],
   "source": [
    "#Lets drop the two rows in the 'years_as_customer' column that have values greater than 40\n",
    "df_clean = df_clean[df_clean['years_as_customer'] <= 40]\n",
    "df_clean['years_as_customer'].unique()"
   ]
  },
  {
   "cell_type": "code",
   "execution_count": 18,
   "metadata": {},
   "outputs": [
    {
     "data": {
      "text/plain": [
       "<StringArray>\n",
       "[        'Kansas',      'Wisconsin',       'Illinois',    'Mississippi',\n",
       "        'Georgia',       'Oklahoma',  'Massachusetts',       'Missouri',\n",
       "          'Texas',       'New York',       'Maryland',     'California',\n",
       "      'Tennessee',   'North Dakota',        'Florida',       'Michigan',\n",
       " 'North Carolina',   'Pennsylvania',        'Indiana',         'Hawaii',\n",
       "       'Colorado',      'Louisiana',       'Virginia',       'Arkansas',\n",
       "         'Alaska',         'Oregon',  'New Hampshire',           'Ohio',\n",
       "     'New Jersey',    'Connecticut',           'Iowa',        'Montana',\n",
       "     'Washington',        'Arizona',       'Kentucky',        'Alabama',\n",
       "       'Nebraska', 'South Carolina',      'Minnesota',   'South Dakota',\n",
       "          'Maine',           'Utah',  'West Virginia',        'Vermont',\n",
       "     'New Mexico',   'Rhode Island',         'Nevada',       'Delaware',\n",
       "          'Idaho',        'Wyoming']\n",
       "Length: 50, dtype: string"
      ]
     },
     "execution_count": 18,
     "metadata": {},
     "output_type": "execute_result"
    }
   ],
   "source": [
    "#Let's check the number of unique values in the 'state' column\n",
    "df_clean['state'].unique()"
   ]
  },
  {
   "cell_type": "markdown",
   "metadata": {},
   "source": [
    "All 50 states from USA are included in the column 'state' with no duplicates of errors.\n",
    "Since there is no Referential Integrity to assess we can pass to the next step. "
   ]
  },
  {
   "cell_type": "code",
   "execution_count": 20,
   "metadata": {},
   "outputs": [
    {
     "data": {
      "text/html": [
       "<div>\n",
       "<style scoped>\n",
       "    .dataframe tbody tr th:only-of-type {\n",
       "        vertical-align: middle;\n",
       "    }\n",
       "\n",
       "    .dataframe tbody tr th {\n",
       "        vertical-align: top;\n",
       "    }\n",
       "\n",
       "    .dataframe thead th {\n",
       "        text-align: right;\n",
       "    }\n",
       "</style>\n",
       "<table border=\"1\" class=\"dataframe\">\n",
       "  <thead>\n",
       "    <tr style=\"text-align: right;\">\n",
       "      <th></th>\n",
       "      <th>week</th>\n",
       "      <th>nb_sold</th>\n",
       "      <th>revenue</th>\n",
       "      <th>years_as_customer</th>\n",
       "      <th>nb_site_visits</th>\n",
       "    </tr>\n",
       "  </thead>\n",
       "  <tbody>\n",
       "    <tr>\n",
       "      <th>count</th>\n",
       "      <td>13924.0</td>\n",
       "      <td>13924.0</td>\n",
       "      <td>13924.0</td>\n",
       "      <td>13924.0</td>\n",
       "      <td>13924.0</td>\n",
       "    </tr>\n",
       "    <tr>\n",
       "      <th>mean</th>\n",
       "      <td>3.1</td>\n",
       "      <td>10.0</td>\n",
       "      <td>93.9</td>\n",
       "      <td>5.0</td>\n",
       "      <td>24.9</td>\n",
       "    </tr>\n",
       "    <tr>\n",
       "      <th>std</th>\n",
       "      <td>1.7</td>\n",
       "      <td>1.8</td>\n",
       "      <td>47.4</td>\n",
       "      <td>5.0</td>\n",
       "      <td>3.5</td>\n",
       "    </tr>\n",
       "    <tr>\n",
       "      <th>min</th>\n",
       "      <td>1.0</td>\n",
       "      <td>7.0</td>\n",
       "      <td>32.5</td>\n",
       "      <td>0.0</td>\n",
       "      <td>12.0</td>\n",
       "    </tr>\n",
       "    <tr>\n",
       "      <th>25%</th>\n",
       "      <td>1.0</td>\n",
       "      <td>9.0</td>\n",
       "      <td>52.5</td>\n",
       "      <td>1.0</td>\n",
       "      <td>23.0</td>\n",
       "    </tr>\n",
       "    <tr>\n",
       "      <th>50%</th>\n",
       "      <td>3.0</td>\n",
       "      <td>10.0</td>\n",
       "      <td>89.5</td>\n",
       "      <td>3.0</td>\n",
       "      <td>25.0</td>\n",
       "    </tr>\n",
       "    <tr>\n",
       "      <th>75%</th>\n",
       "      <td>4.0</td>\n",
       "      <td>11.0</td>\n",
       "      <td>107.3</td>\n",
       "      <td>7.0</td>\n",
       "      <td>27.0</td>\n",
       "    </tr>\n",
       "    <tr>\n",
       "      <th>max</th>\n",
       "      <td>6.0</td>\n",
       "      <td>16.0</td>\n",
       "      <td>238.3</td>\n",
       "      <td>39.0</td>\n",
       "      <td>37.0</td>\n",
       "    </tr>\n",
       "  </tbody>\n",
       "</table>\n",
       "</div>"
      ],
      "text/plain": [
       "          week  nb_sold  revenue  years_as_customer  nb_site_visits\n",
       "count  13924.0  13924.0  13924.0            13924.0         13924.0\n",
       "mean       3.1     10.0     93.9                5.0            24.9\n",
       "std        1.7      1.8     47.4                5.0             3.5\n",
       "min        1.0      7.0     32.5                0.0            12.0\n",
       "25%        1.0      9.0     52.5                1.0            23.0\n",
       "50%        3.0     10.0     89.5                3.0            25.0\n",
       "75%        4.0     11.0    107.3                7.0            27.0\n",
       "max        6.0     16.0    238.3               39.0            37.0"
      ]
     },
     "execution_count": 20,
     "metadata": {},
     "output_type": "execute_result"
    }
   ],
   "source": [
    "#6. Examine Statistical Summaries\n",
    "round(df_clean.describe(), 1)"
   ]
  },
  {
   "cell_type": "markdown",
   "metadata": {},
   "source": [
    "By examining the statistical summaries, we can clearly see that the mean number of new products sold is 10, which is 7 as minimum and 16 as maximum. The minimum revenue from the sales are 32.5 dollars and the maximum is 238.3 dollars, having the mean revenue of sales at 93.9 dollars. We have customers that have been buying from Pen and Printers for 5 years in average, having new customers (less than 1 year) and really old customers (buying for 39 years, almost since the beginning of Pens and Printers). We see that the standard deviation for year as customers is equal to the mean, so we conclude that most of our customers is present for the past 5 years. On average, the customers visit Pen and Printers’ website almost 25 times, being the minimum of times 12 and the maximum of visits 37. "
   ]
  },
  {
   "cell_type": "code",
   "execution_count": 30,
   "metadata": {},
   "outputs": [
    {
     "data": {
      "image/png": "[encoded data removed]",
      "text/plain": [
       "<Figure size 432x288 with 1 Axes>"
      ]
     },
     "metadata": {},
     "output_type": "display_data"
    }
   ],
   "source": [
    "#7. Check for Data Anomalies or Outliers\n",
    "import matplotlib.pyplot as plt\n",
    "import seaborn as sns\n",
    "\n",
    "#Checking for outliers in the 'revenue' column by ploting a scatter plot\n",
    "sns.set_theme(style=\"whitegrid\")\n",
    "sns.scatterplot(data=df_clean, x=\"revenue\", y=\"week\", hue=\"sales_method\", palette=\"deep\")\n",
    "plt.show()\n"
   ]
  },
  {
   "cell_type": "code",
   "execution_count": 31,
   "metadata": {},
   "outputs": [
    {
     "data": {
      "image/png": "[encoded data removed]",
      "text/plain": [
       "<Figure size 432x288 with 1 Axes>"
      ]
     },
     "metadata": {},
     "output_type": "display_data"
    }
   ],
   "source": [
    "#Checking for outliers in the 'years_as_customer' column by ploting a boxplot\n",
    "sns.boxplot(x=df_clean['years_as_customer'])\n",
    "plt.show()"
   ]
  },
  {
   "cell_type": "markdown",
   "metadata": {},
   "source": [
    "Concerning outliers, we already fixed the ones we found on years_as_customer column. Let’s check it on the revenue column and number of new products sold.  "
   ]
  },
  {
   "cell_type": "code",
   "execution_count": 32,
   "metadata": {},
   "outputs": [
    {
     "data": {
      "image/png": "[encoded data removed]",
      "text/plain": [
       "<Figure size 432x288 with 1 Axes>"
      ]
     },
     "metadata": {},
     "output_type": "display_data"
    }
   ],
   "source": [
    "#Checking for outliers in the 'nb_sold' column by ploting a boxplot\n",
    "sns.boxplot(x=df_clean['nb_sold'])\n",
    "plt.show()"
   ]
  },
  {
   "cell_type": "markdown",
   "metadata": {},
   "source": [
    "After doing that, we conclude that there were no outliers on the dataset identified so far. Let’s pass to the next step and clean the data even further. "
   ]
  },
  {
   "cell_type": "markdown",
   "metadata": {},
   "source": [
    "### **Process and cleaning**"
   ]
  },
  {
   "cell_type": "code",
   "execution_count": 34,
   "metadata": {},
   "outputs": [
    {
     "data": {
      "text/html": [
       "<div>\n",
       "<style scoped>\n",
       "    .dataframe tbody tr th:only-of-type {\n",
       "        vertical-align: middle;\n",
       "    }\n",
       "\n",
       "    .dataframe tbody tr th {\n",
       "        vertical-align: top;\n",
       "    }\n",
       "\n",
       "    .dataframe thead th {\n",
       "        text-align: right;\n",
       "    }\n",
       "</style>\n",
       "<table border=\"1\" class=\"dataframe\">\n",
       "  <thead>\n",
       "    <tr style=\"text-align: right;\">\n",
       "      <th></th>\n",
       "      <th>week</th>\n",
       "      <th>sales_method</th>\n",
       "      <th>customer_id</th>\n",
       "      <th>nb_sold</th>\n",
       "      <th>revenue</th>\n",
       "      <th>years_as_customer</th>\n",
       "      <th>nb_site_visits</th>\n",
       "      <th>state</th>\n",
       "    </tr>\n",
       "  </thead>\n",
       "  <tbody>\n",
       "    <tr>\n",
       "      <th>559</th>\n",
       "      <td>6</td>\n",
       "      <td>Email + Call</td>\n",
       "      <td>b2f45f98-50f4-4ba3-ba61-429a56d9f0d4</td>\n",
       "      <td>15</td>\n",
       "      <td>225.64</td>\n",
       "      <td>6</td>\n",
       "      <td>29</td>\n",
       "      <td>New York</td>\n",
       "    </tr>\n",
       "    <tr>\n",
       "      <th>12669</th>\n",
       "      <td>2</td>\n",
       "      <td>Call</td>\n",
       "      <td>f1d2b92a-90cb-4c8c-8f77-d77647b7f19e</td>\n",
       "      <td>9</td>\n",
       "      <td>43.18</td>\n",
       "      <td>4</td>\n",
       "      <td>29</td>\n",
       "      <td>Florida</td>\n",
       "    </tr>\n",
       "    <tr>\n",
       "      <th>12337</th>\n",
       "      <td>1</td>\n",
       "      <td>Email</td>\n",
       "      <td>bd970710-36e5-4c1b-b6c5-8614188c734c</td>\n",
       "      <td>8</td>\n",
       "      <td>84.56</td>\n",
       "      <td>5</td>\n",
       "      <td>23</td>\n",
       "      <td>California</td>\n",
       "    </tr>\n",
       "    <tr>\n",
       "      <th>12324</th>\n",
       "      <td>4</td>\n",
       "      <td>Call</td>\n",
       "      <td>641a905a-0b0d-4106-a524-c8d8080757ae</td>\n",
       "      <td>10</td>\n",
       "      <td>51.79</td>\n",
       "      <td>2</td>\n",
       "      <td>22</td>\n",
       "      <td>California</td>\n",
       "    </tr>\n",
       "    <tr>\n",
       "      <th>5835</th>\n",
       "      <td>4</td>\n",
       "      <td>Email</td>\n",
       "      <td>a3a1eb78-5287-4b0c-be0d-b20486f5f53d</td>\n",
       "      <td>12</td>\n",
       "      <td>121.64</td>\n",
       "      <td>13</td>\n",
       "      <td>31</td>\n",
       "      <td>Louisiana</td>\n",
       "    </tr>\n",
       "    <tr>\n",
       "      <th>9332</th>\n",
       "      <td>3</td>\n",
       "      <td>Email</td>\n",
       "      <td>16728ac4-3612-48fa-b070-fbc53c29a905</td>\n",
       "      <td>9</td>\n",
       "      <td>88.45</td>\n",
       "      <td>0</td>\n",
       "      <td>24</td>\n",
       "      <td>Wisconsin</td>\n",
       "    </tr>\n",
       "    <tr>\n",
       "      <th>12478</th>\n",
       "      <td>6</td>\n",
       "      <td>Email + Call</td>\n",
       "      <td>0228e024-ae73-463f-8967-46a421655138</td>\n",
       "      <td>15</td>\n",
       "      <td>227.39</td>\n",
       "      <td>2</td>\n",
       "      <td>29</td>\n",
       "      <td>Indiana</td>\n",
       "    </tr>\n",
       "    <tr>\n",
       "      <th>7282</th>\n",
       "      <td>6</td>\n",
       "      <td>Email + Call</td>\n",
       "      <td>d6202d12-3668-4cb4-8f36-4703dbbef161</td>\n",
       "      <td>15</td>\n",
       "      <td>227.27</td>\n",
       "      <td>1</td>\n",
       "      <td>31</td>\n",
       "      <td>Tennessee</td>\n",
       "    </tr>\n",
       "    <tr>\n",
       "      <th>9600</th>\n",
       "      <td>1</td>\n",
       "      <td>Email</td>\n",
       "      <td>aba11358-8856-4d56-aaa9-5ef131e24f50</td>\n",
       "      <td>8</td>\n",
       "      <td>84.51</td>\n",
       "      <td>1</td>\n",
       "      <td>20</td>\n",
       "      <td>California</td>\n",
       "    </tr>\n",
       "    <tr>\n",
       "      <th>7238</th>\n",
       "      <td>4</td>\n",
       "      <td>Email</td>\n",
       "      <td>c3c8f841-5bf2-4a03-8b35-5b96e58d1e3c</td>\n",
       "      <td>11</td>\n",
       "      <td>105.06</td>\n",
       "      <td>7</td>\n",
       "      <td>22</td>\n",
       "      <td>New Jersey</td>\n",
       "    </tr>\n",
       "    <tr>\n",
       "      <th>11955</th>\n",
       "      <td>4</td>\n",
       "      <td>Email</td>\n",
       "      <td>1730a6ee-1f18-42f6-a131-de749e74098f</td>\n",
       "      <td>11</td>\n",
       "      <td>106.00</td>\n",
       "      <td>0</td>\n",
       "      <td>32</td>\n",
       "      <td>North Carolina</td>\n",
       "    </tr>\n",
       "    <tr>\n",
       "      <th>13739</th>\n",
       "      <td>5</td>\n",
       "      <td>Email + Call</td>\n",
       "      <td>9f16f596-62f9-43ee-afff-81141d548abe</td>\n",
       "      <td>12</td>\n",
       "      <td>186.39</td>\n",
       "      <td>2</td>\n",
       "      <td>24</td>\n",
       "      <td>Louisiana</td>\n",
       "    </tr>\n",
       "    <tr>\n",
       "      <th>13444</th>\n",
       "      <td>3</td>\n",
       "      <td>Call</td>\n",
       "      <td>3b88fa63-9b7f-4818-b494-502d3e48f4fe</td>\n",
       "      <td>8</td>\n",
       "      <td>42.14</td>\n",
       "      <td>1</td>\n",
       "      <td>22</td>\n",
       "      <td>Missouri</td>\n",
       "    </tr>\n",
       "    <tr>\n",
       "      <th>5198</th>\n",
       "      <td>4</td>\n",
       "      <td>Email</td>\n",
       "      <td>cb8d7a63-46c6-428b-a041-60585e4323d6</td>\n",
       "      <td>11</td>\n",
       "      <td>112.34</td>\n",
       "      <td>2</td>\n",
       "      <td>25</td>\n",
       "      <td>Texas</td>\n",
       "    </tr>\n",
       "    <tr>\n",
       "      <th>711</th>\n",
       "      <td>1</td>\n",
       "      <td>Email</td>\n",
       "      <td>9ab98983-61db-4a54-9487-2524050ab3fd</td>\n",
       "      <td>9</td>\n",
       "      <td>88.10</td>\n",
       "      <td>1</td>\n",
       "      <td>28</td>\n",
       "      <td>Florida</td>\n",
       "    </tr>\n",
       "  </tbody>\n",
       "</table>\n",
       "</div>"
      ],
      "text/plain": [
       "       week  sales_method                           customer_id  nb_sold  \\\n",
       "559       6  Email + Call  b2f45f98-50f4-4ba3-ba61-429a56d9f0d4       15   \n",
       "12669     2          Call  f1d2b92a-90cb-4c8c-8f77-d77647b7f19e        9   \n",
       "12337     1         Email  bd970710-36e5-4c1b-b6c5-8614188c734c        8   \n",
       "12324     4          Call  641a905a-0b0d-4106-a524-c8d8080757ae       10   \n",
       "5835      4         Email  a3a1eb78-5287-4b0c-be0d-b20486f5f53d       12   \n",
       "9332      3         Email  16728ac4-3612-48fa-b070-fbc53c29a905        9   \n",
       "12478     6  Email + Call  0228e024-ae73-463f-8967-46a421655138       15   \n",
       "7282      6  Email + Call  d6202d12-3668-4cb4-8f36-4703dbbef161       15   \n",
       "9600      1         Email  aba11358-8856-4d56-aaa9-5ef131e24f50        8   \n",
       "7238      4         Email  c3c8f841-5bf2-4a03-8b35-5b96e58d1e3c       11   \n",
       "11955     4         Email  1730a6ee-1f18-42f6-a131-de749e74098f       11   \n",
       "13739     5  Email + Call  9f16f596-62f9-43ee-afff-81141d548abe       12   \n",
       "13444     3          Call  3b88fa63-9b7f-4818-b494-502d3e48f4fe        8   \n",
       "5198      4         Email  cb8d7a63-46c6-428b-a041-60585e4323d6       11   \n",
       "711       1         Email  9ab98983-61db-4a54-9487-2524050ab3fd        9   \n",
       "\n",
       "       revenue  years_as_customer  nb_site_visits           state  \n",
       "559     225.64                  6              29        New York  \n",
       "12669    43.18                  4              29         Florida  \n",
       "12337    84.56                  5              23      California  \n",
       "12324    51.79                  2              22      California  \n",
       "5835    121.64                 13              31       Louisiana  \n",
       "9332     88.45                  0              24       Wisconsin  \n",
       "12478   227.39                  2              29         Indiana  \n",
       "7282    227.27                  1              31       Tennessee  \n",
       "9600     84.51                  1              20      California  \n",
       "7238    105.06                  7              22      New Jersey  \n",
       "11955   106.00                  0              32  North Carolina  \n",
       "13739   186.39                  2              24       Louisiana  \n",
       "13444    42.14                  1              22        Missouri  \n",
       "5198    112.34                  2              25           Texas  \n",
       "711      88.10                  1              28         Florida  "
      ]
     },
     "execution_count": 34,
     "metadata": {},
     "output_type": "execute_result"
    }
   ],
   "source": [
    "df_clean.sample(15)"
   ]
  },
  {
   "cell_type": "code",
   "execution_count": 53,
   "metadata": {},
   "outputs": [
    {
     "data": {
      "text/html": [
       "<div>\n",
       "<style scoped>\n",
       "    .dataframe tbody tr th:only-of-type {\n",
       "        vertical-align: middle;\n",
       "    }\n",
       "\n",
       "    .dataframe tbody tr th {\n",
       "        vertical-align: top;\n",
       "    }\n",
       "\n",
       "    .dataframe thead th {\n",
       "        text-align: right;\n",
       "    }\n",
       "</style>\n",
       "<table border=\"1\" class=\"dataframe\">\n",
       "  <thead>\n",
       "    <tr style=\"text-align: right;\">\n",
       "      <th></th>\n",
       "      <th>week</th>\n",
       "      <th>sales_method</th>\n",
       "      <th>nb_sold</th>\n",
       "      <th>revenue</th>\n",
       "      <th>years_as_customer</th>\n",
       "      <th>nb_site_visits</th>\n",
       "      <th>state</th>\n",
       "      <th>revenue_per_item</th>\n",
       "      <th>customer_id</th>\n",
       "    </tr>\n",
       "  </thead>\n",
       "  <tbody>\n",
       "    <tr>\n",
       "      <th>11215</th>\n",
       "      <td>1</td>\n",
       "      <td>Email</td>\n",
       "      <td>9</td>\n",
       "      <td>89.75</td>\n",
       "      <td>3</td>\n",
       "      <td>20</td>\n",
       "      <td>Louisiana</td>\n",
       "      <td>9.97</td>\n",
       "      <td>03dc5db5-d2b3-4fe2-9343-73cbeb2676a0</td>\n",
       "    </tr>\n",
       "    <tr>\n",
       "      <th>12493</th>\n",
       "      <td>5</td>\n",
       "      <td>Email + Call</td>\n",
       "      <td>13</td>\n",
       "      <td>188.35</td>\n",
       "      <td>5</td>\n",
       "      <td>29</td>\n",
       "      <td>Connecticut</td>\n",
       "      <td>14.49</td>\n",
       "      <td>7f464e12-d129-48fa-9d27-e0df87bd30a6</td>\n",
       "    </tr>\n",
       "    <tr>\n",
       "      <th>7962</th>\n",
       "      <td>3</td>\n",
       "      <td>Email</td>\n",
       "      <td>9</td>\n",
       "      <td>91.82</td>\n",
       "      <td>1</td>\n",
       "      <td>23</td>\n",
       "      <td>Wisconsin</td>\n",
       "      <td>10.20</td>\n",
       "      <td>3e3d3464-e7fa-42e1-8576-9e07dd2f98f5</td>\n",
       "    </tr>\n",
       "    <tr>\n",
       "      <th>4834</th>\n",
       "      <td>3</td>\n",
       "      <td>Email</td>\n",
       "      <td>9</td>\n",
       "      <td>87.08</td>\n",
       "      <td>6</td>\n",
       "      <td>26</td>\n",
       "      <td>Wisconsin</td>\n",
       "      <td>9.68</td>\n",
       "      <td>6f3a4fcd-11a1-47a6-9757-3c14b94684cc</td>\n",
       "    </tr>\n",
       "    <tr>\n",
       "      <th>14434</th>\n",
       "      <td>1</td>\n",
       "      <td>Call</td>\n",
       "      <td>7</td>\n",
       "      <td>35.92</td>\n",
       "      <td>1</td>\n",
       "      <td>23</td>\n",
       "      <td>Wisconsin</td>\n",
       "      <td>5.13</td>\n",
       "      <td>28617144-f89b-4b8b-9300-6bd038d0dec7</td>\n",
       "    </tr>\n",
       "    <tr>\n",
       "      <th>6414</th>\n",
       "      <td>5</td>\n",
       "      <td>Call</td>\n",
       "      <td>11</td>\n",
       "      <td>52.81</td>\n",
       "      <td>4</td>\n",
       "      <td>21</td>\n",
       "      <td>Tennessee</td>\n",
       "      <td>4.80</td>\n",
       "      <td>3f171a02-49c5-47d2-8614-99001deb7504</td>\n",
       "    </tr>\n",
       "    <tr>\n",
       "      <th>2529</th>\n",
       "      <td>1</td>\n",
       "      <td>Email</td>\n",
       "      <td>9</td>\n",
       "      <td>93.09</td>\n",
       "      <td>16</td>\n",
       "      <td>22</td>\n",
       "      <td>Pennsylvania</td>\n",
       "      <td>10.34</td>\n",
       "      <td>c9bf225c-e9fd-4c88-82e2-9f6a5c6c578c</td>\n",
       "    </tr>\n",
       "    <tr>\n",
       "      <th>1978</th>\n",
       "      <td>3</td>\n",
       "      <td>Call</td>\n",
       "      <td>9</td>\n",
       "      <td>42.59</td>\n",
       "      <td>7</td>\n",
       "      <td>20</td>\n",
       "      <td>Georgia</td>\n",
       "      <td>4.73</td>\n",
       "      <td>3f541144-0147-4311-a9f2-964ecaff76e6</td>\n",
       "    </tr>\n",
       "    <tr>\n",
       "      <th>2559</th>\n",
       "      <td>6</td>\n",
       "      <td>Call</td>\n",
       "      <td>13</td>\n",
       "      <td>65.74</td>\n",
       "      <td>6</td>\n",
       "      <td>28</td>\n",
       "      <td>California</td>\n",
       "      <td>5.06</td>\n",
       "      <td>5f852f8a-521d-4ecb-a490-2ae739f03588</td>\n",
       "    </tr>\n",
       "    <tr>\n",
       "      <th>8024</th>\n",
       "      <td>6</td>\n",
       "      <td>Email + Call</td>\n",
       "      <td>15</td>\n",
       "      <td>223.61</td>\n",
       "      <td>1</td>\n",
       "      <td>28</td>\n",
       "      <td>Pennsylvania</td>\n",
       "      <td>14.91</td>\n",
       "      <td>8b422a00-8d90-4444-9446-91bcc5dc3a24</td>\n",
       "    </tr>\n",
       "  </tbody>\n",
       "</table>\n",
       "</div>"
      ],
      "text/plain": [
       "       week  sales_method  nb_sold  revenue  years_as_customer  \\\n",
       "11215     1         Email        9    89.75                  3   \n",
       "12493     5  Email + Call       13   188.35                  5   \n",
       "7962      3         Email        9    91.82                  1   \n",
       "4834      3         Email        9    87.08                  6   \n",
       "14434     1          Call        7    35.92                  1   \n",
       "6414      5          Call       11    52.81                  4   \n",
       "2529      1         Email        9    93.09                 16   \n",
       "1978      3          Call        9    42.59                  7   \n",
       "2559      6          Call       13    65.74                  6   \n",
       "8024      6  Email + Call       15   223.61                  1   \n",
       "\n",
       "       nb_site_visits         state  revenue_per_item  \\\n",
       "11215              20     Louisiana              9.97   \n",
       "12493              29   Connecticut             14.49   \n",
       "7962               23     Wisconsin             10.20   \n",
       "4834               26     Wisconsin              9.68   \n",
       "14434              23     Wisconsin              5.13   \n",
       "6414               21     Tennessee              4.80   \n",
       "2529               22  Pennsylvania             10.34   \n",
       "1978               20       Georgia              4.73   \n",
       "2559               28    California              5.06   \n",
       "8024               28  Pennsylvania             14.91   \n",
       "\n",
       "                                customer_id  \n",
       "11215  03dc5db5-d2b3-4fe2-9343-73cbeb2676a0  \n",
       "12493  7f464e12-d129-48fa-9d27-e0df87bd30a6  \n",
       "7962   3e3d3464-e7fa-42e1-8576-9e07dd2f98f5  \n",
       "4834   6f3a4fcd-11a1-47a6-9757-3c14b94684cc  \n",
       "14434  28617144-f89b-4b8b-9300-6bd038d0dec7  \n",
       "6414   3f171a02-49c5-47d2-8614-99001deb7504  \n",
       "2529   c9bf225c-e9fd-4c88-82e2-9f6a5c6c578c  \n",
       "1978   3f541144-0147-4311-a9f2-964ecaff76e6  \n",
       "2559   5f852f8a-521d-4ecb-a490-2ae739f03588  \n",
       "8024   8b422a00-8d90-4444-9446-91bcc5dc3a24  "
      ]
     },
     "execution_count": 53,
     "metadata": {},
     "output_type": "execute_result"
    }
   ],
   "source": [
    "#Create a new colum to 'df_clean' called 'revenue_per_item' which is the division of 'revenue' by  'nb_sold'\n",
    "df_clean['revenue_per_item'] = round(df_clean['revenue'] / df_clean['nb_sold'],2)\n",
    "df_clean.sample(10)"
   ]
  },
  {
   "cell_type": "markdown",
   "metadata": {},
   "source": [
    "It seems that our dataset is ready to be saved into a new .csv and be aggregated in the analyze phase."
   ]
  },
  {
   "cell_type": "code",
   "execution_count": 57,
   "metadata": {},
   "outputs": [],
   "source": [
    "df_clean.to_csv('product_sales_cleaned.csv', index=False)"
   ]
  },
  {
   "cell_type": "markdown",
   "metadata": {},
   "source": [
    "## **Analyzing**"
   ]
  },
  {
   "cell_type": "code",
   "execution_count": 9,
   "metadata": {},
   "outputs": [
    {
     "data": {
      "text/html": [
       "<div>\n",
       "<style scoped>\n",
       "    .dataframe tbody tr th:only-of-type {\n",
       "        vertical-align: middle;\n",
       "    }\n",
       "\n",
       "    .dataframe tbody tr th {\n",
       "        vertical-align: top;\n",
       "    }\n",
       "\n",
       "    .dataframe thead th {\n",
       "        text-align: right;\n",
       "    }\n",
       "</style>\n",
       "<table border=\"1\" class=\"dataframe\">\n",
       "  <thead>\n",
       "    <tr style=\"text-align: right;\">\n",
       "      <th></th>\n",
       "      <th>week</th>\n",
       "      <th>sales_method</th>\n",
       "      <th>nb_sold</th>\n",
       "      <th>revenue</th>\n",
       "      <th>years_as_customer</th>\n",
       "      <th>nb_site_visits</th>\n",
       "      <th>state</th>\n",
       "      <th>revenue_per_item</th>\n",
       "      <th>customer_id</th>\n",
       "    </tr>\n",
       "  </thead>\n",
       "  <tbody>\n",
       "    <tr>\n",
       "      <th>450</th>\n",
       "      <td>2</td>\n",
       "      <td>Email</td>\n",
       "      <td>10</td>\n",
       "      <td>97.45</td>\n",
       "      <td>2</td>\n",
       "      <td>28</td>\n",
       "      <td>Alabama</td>\n",
       "      <td>9.75</td>\n",
       "      <td>429f7d60-e825-4e53-b611-4eaa7bf38470</td>\n",
       "    </tr>\n",
       "    <tr>\n",
       "      <th>6073</th>\n",
       "      <td>2</td>\n",
       "      <td>Call</td>\n",
       "      <td>9</td>\n",
       "      <td>45.71</td>\n",
       "      <td>1</td>\n",
       "      <td>25</td>\n",
       "      <td>Florida</td>\n",
       "      <td>5.08</td>\n",
       "      <td>6745308a-7552-40d0-97a9-20225e5d0dbc</td>\n",
       "    </tr>\n",
       "    <tr>\n",
       "      <th>10585</th>\n",
       "      <td>1</td>\n",
       "      <td>Call</td>\n",
       "      <td>7</td>\n",
       "      <td>36.01</td>\n",
       "      <td>5</td>\n",
       "      <td>22</td>\n",
       "      <td>California</td>\n",
       "      <td>5.14</td>\n",
       "      <td>8c188688-de3a-420b-bad9-ea500d860bec</td>\n",
       "    </tr>\n",
       "    <tr>\n",
       "      <th>4840</th>\n",
       "      <td>6</td>\n",
       "      <td>Email + Call</td>\n",
       "      <td>15</td>\n",
       "      <td>224.95</td>\n",
       "      <td>5</td>\n",
       "      <td>26</td>\n",
       "      <td>Massachusetts</td>\n",
       "      <td>15.00</td>\n",
       "      <td>a899cfa5-8b76-4e55-9985-71a7a44fa1e0</td>\n",
       "    </tr>\n",
       "    <tr>\n",
       "      <th>842</th>\n",
       "      <td>3</td>\n",
       "      <td>Email + Call</td>\n",
       "      <td>10</td>\n",
       "      <td>147.05</td>\n",
       "      <td>9</td>\n",
       "      <td>24</td>\n",
       "      <td>New York</td>\n",
       "      <td>14.71</td>\n",
       "      <td>e91d045a-44fa-4eaf-a558-38f6aca88166</td>\n",
       "    </tr>\n",
       "    <tr>\n",
       "      <th>2354</th>\n",
       "      <td>1</td>\n",
       "      <td>Email + Call</td>\n",
       "      <td>8</td>\n",
       "      <td>126.51</td>\n",
       "      <td>8</td>\n",
       "      <td>24</td>\n",
       "      <td>Florida</td>\n",
       "      <td>15.81</td>\n",
       "      <td>6e945d77-fca5-401e-af60-61726aadd191</td>\n",
       "    </tr>\n",
       "    <tr>\n",
       "      <th>9982</th>\n",
       "      <td>4</td>\n",
       "      <td>Call</td>\n",
       "      <td>10</td>\n",
       "      <td>50.77</td>\n",
       "      <td>1</td>\n",
       "      <td>28</td>\n",
       "      <td>California</td>\n",
       "      <td>5.08</td>\n",
       "      <td>fc72197d-4daa-47ff-8034-bfa5dc8197d8</td>\n",
       "    </tr>\n",
       "    <tr>\n",
       "      <th>4072</th>\n",
       "      <td>5</td>\n",
       "      <td>Email</td>\n",
       "      <td>11</td>\n",
       "      <td>108.52</td>\n",
       "      <td>2</td>\n",
       "      <td>25</td>\n",
       "      <td>Connecticut</td>\n",
       "      <td>9.87</td>\n",
       "      <td>fb375c0b-ca7a-43b2-9cc5-7194d11d6bca</td>\n",
       "    </tr>\n",
       "    <tr>\n",
       "      <th>13657</th>\n",
       "      <td>4</td>\n",
       "      <td>Call</td>\n",
       "      <td>10</td>\n",
       "      <td>50.14</td>\n",
       "      <td>5</td>\n",
       "      <td>28</td>\n",
       "      <td>Washington</td>\n",
       "      <td>5.01</td>\n",
       "      <td>ad247271-47fe-4ad5-b64a-7803e90be1ff</td>\n",
       "    </tr>\n",
       "    <tr>\n",
       "      <th>22</th>\n",
       "      <td>2</td>\n",
       "      <td>Email</td>\n",
       "      <td>10</td>\n",
       "      <td>102.22</td>\n",
       "      <td>0</td>\n",
       "      <td>28</td>\n",
       "      <td>Pennsylvania</td>\n",
       "      <td>10.22</td>\n",
       "      <td>59973ecb-3c3f-450e-88e5-3be98d151cf1</td>\n",
       "    </tr>\n",
       "  </tbody>\n",
       "</table>\n",
       "</div>"
      ],
      "text/plain": [
       "       week  sales_method  nb_sold  revenue  years_as_customer  \\\n",
       "450       2         Email       10    97.45                  2   \n",
       "6073      2          Call        9    45.71                  1   \n",
       "10585     1          Call        7    36.01                  5   \n",
       "4840      6  Email + Call       15   224.95                  5   \n",
       "842       3  Email + Call       10   147.05                  9   \n",
       "2354      1  Email + Call        8   126.51                  8   \n",
       "9982      4          Call       10    50.77                  1   \n",
       "4072      5         Email       11   108.52                  2   \n",
       "13657     4          Call       10    50.14                  5   \n",
       "22        2         Email       10   102.22                  0   \n",
       "\n",
       "       nb_site_visits          state  revenue_per_item  \\\n",
       "450                28        Alabama              9.75   \n",
       "6073               25        Florida              5.08   \n",
       "10585              22     California              5.14   \n",
       "4840               26  Massachusetts             15.00   \n",
       "842                24       New York             14.71   \n",
       "2354               24        Florida             15.81   \n",
       "9982               28     California              5.08   \n",
       "4072               25    Connecticut              9.87   \n",
       "13657              28     Washington              5.01   \n",
       "22                 28   Pennsylvania             10.22   \n",
       "\n",
       "                                customer_id  \n",
       "450    429f7d60-e825-4e53-b611-4eaa7bf38470  \n",
       "6073   6745308a-7552-40d0-97a9-20225e5d0dbc  \n",
       "10585  8c188688-de3a-420b-bad9-ea500d860bec  \n",
       "4840   a899cfa5-8b76-4e55-9985-71a7a44fa1e0  \n",
       "842    e91d045a-44fa-4eaf-a558-38f6aca88166  \n",
       "2354   6e945d77-fca5-401e-af60-61726aadd191  \n",
       "9982   fc72197d-4daa-47ff-8034-bfa5dc8197d8  \n",
       "4072   fb375c0b-ca7a-43b2-9cc5-7194d11d6bca  \n",
       "13657  ad247271-47fe-4ad5-b64a-7803e90be1ff  \n",
       "22     59973ecb-3c3f-450e-88e5-3be98d151cf1  "
      ]
     },
     "execution_count": 9,
     "metadata": {},
     "output_type": "execute_result"
    }
   ],
   "source": [
    "import pandas as pd \n",
    "import matplotlib.pyplot as plt\n",
    "import seaborn as sns\n",
    "#Assiging the cleaned data to a new variable\n",
    "df_cleaned = pd.read_csv('product_sales_cleaned.csv')\n",
    "df_cleaned.sample(10)"
   ]
  },
  {
   "cell_type": "markdown",
   "metadata": {},
   "source": [
    "- How many customers were there for each approach?"
   ]
  },
  {
   "cell_type": "code",
   "execution_count": 4,
   "metadata": {},
   "outputs": [
    {
     "name": "stdout",
     "output_type": "stream",
     "text": [
      "   sales_method  customer_id  proportion\n",
      "1         Email         6921        0.50\n",
      "0          Call         4780        0.34\n",
      "2  Email + Call         2223        0.16\n"
     ]
    }
   ],
   "source": [
    "#Calculating the total number of customers in each sales method and getting the proportion of customers in each sales method compared to the total number of customers\n",
    "total_customers = df_cleaned.groupby('sales_method')['customer_id'].nunique()  \n",
    "total_customers = total_customers.reset_index()\n",
    "total_customers['proportion'] = round(total_customers['customer_id'] / total_customers['customer_id'].sum(), 2)\n",
    "#Printing the total number of customers in each sales method sorting by the 'customer_id' column in descending order\n",
    "total_customers = total_customers.sort_values(by='customer_id', ascending=False)\n",
    "print(total_customers)\n",
    "\n",
    "#saving into a csv file to be used in the visualization part\n",
    "total_customers.to_csv('question_1.csv', index=False)\n"
   ]
  },
  {
   "cell_type": "markdown",
   "metadata": {},
   "source": [
    "To answer the first business question, we have Email as the major sales method with 6.921 customers in it, which is half of the total customers. In second place, the Call method appears with 4.780 people, representing 34%. And lastly, Email + Call method represents only 16% of all approachs with 2.223 customers. \n",
    "\n",
    "Let's pass to the next question: **What does the spread of the revenue look like overall? And for each method?**"
   ]
  },
  {
   "cell_type": "code",
   "execution_count": 13,
   "metadata": {},
   "outputs": [
    {
     "name": "stdout",
     "output_type": "stream",
     "text": [
      "   week    revenue  proportion\n",
      "0     1  272810.06        0.21\n",
      "4     5  254701.28        0.19\n",
      "3     4  235628.09        0.18\n",
      "1     2  197962.60        0.15\n",
      "2     3  183776.55        0.14\n",
      "5     6  163111.74        0.12\n"
     ]
    }
   ],
   "source": [
    "#Calculating how the revenue spread across weeks\n",
    "total_revenue = df_cleaned.groupby('week')['revenue'].sum()\n",
    "total_revenue = total_revenue.reset_index()\n",
    "total_revenue['proportion'] = round(total_revenue['revenue'] / total_revenue['revenue'].sum(), 2)\n",
    "#Printing the total revenue in each week sorting by the 'revenue' column in descending order\n",
    "total_revenue = total_revenue.sort_values(by='revenue', ascending=False)\n",
    "print(total_revenue)\n",
    "\n",
    "#saving into a csv file to be used in the visualization part\n",
    "total_revenue.to_csv('question_2_1.csv', index=False)"
   ]
  },
  {
   "cell_type": "code",
   "execution_count": 11,
   "metadata": {},
   "outputs": [
    {
     "data": {
      "image/png": "[encoded data removed]",
      "text/plain": [
       "<Figure size 432x288 with 1 Axes>"
      ]
     },
     "metadata": {
      "needs_background": "light"
     },
     "output_type": "display_data"
    }
   ],
   "source": [
    "#Ploting the overall revenue spread across weeks using a line plot\n",
    "sns.lineplot(data=total_revenue, x=\"week\", y=\"revenue\")\n",
    "plt.show()"
   ]
  },
  {
   "cell_type": "code",
   "execution_count": 14,
   "metadata": {},
   "outputs": [
    {
     "name": "stdout",
     "output_type": "stream",
     "text": [
      "   sales_method    revenue  proportion\n",
      "1         Email  672220.61        0.51\n",
      "2  Email + Call  408256.69        0.31\n",
      "0          Call  227513.02        0.17\n"
     ]
    }
   ],
   "source": [
    "#Calculating the total revenue in each sales method and getting the proportion of revenue in each sales method compared to the total revenue\n",
    "total_revenue_sales_method = df_cleaned.groupby('sales_method')['revenue'].sum()\n",
    "total_revenue_sales_method = total_revenue_sales_method.reset_index()\n",
    "total_revenue_sales_method['proportion'] = round(total_revenue_sales_method['revenue'] / total_revenue_sales_method['revenue'].sum(), 2)\n",
    "#Printing the total revenue in each sales method sorting by the 'revenue' column in descending order\n",
    "total_revenue_sales_method = total_revenue_sales_method.sort_values(by='revenue', ascending=False)\n",
    "print(total_revenue_sales_method)\n",
    "\n",
    "#saving into a csv file to be used in the visualization part\n",
    "total_revenue_sales_method.to_csv('question_2_2.csv', index=False)"
   ]
  },
  {
   "cell_type": "code",
   "execution_count": 87,
   "metadata": {},
   "outputs": [
    {
     "data": {
      "image/png": "[encoded data removed]",
      "text/plain": [
       "<Figure size 432x288 with 1 Axes>"
      ]
     },
     "metadata": {},
     "output_type": "display_data"
    }
   ],
   "source": [
    "#Ploting the revenue per sales method using a bar plot\n",
    "sns.barplot(data=total_revenue_sales_method, x=\"sales_method\", y=\"revenue\")\n",
    "plt.show()"
   ]
  },
  {
   "cell_type": "markdown",
   "metadata": {},
   "source": [
    "Overall, the first week was the most profitable with a revenue of U$ 272.810 dollars. After that, the sales went down below the mark of U$ 200.000 dollars for two weeks in a row. Another peak in sales on the 4th and 5th week (the later with the second best revenue of U$ 254.701 dollars) before the 6th and last week, also known as the worst week for the sales of Pens and Printers (U$ 163.111 dollars). \n",
    "\n",
    "For each sales method, the most profitable was the Email responsible of more than half of the total revenue (U$ 672.220 dollars). Email + Call assumed the second position with more than U$ 408.256 dollars, representing 31% of the total revenue. Last, the Call method was responsible for only 17% of the total revenue or U$ 227.513 dollars.\n",
    "\n",
    "Let’s pass to the last business question : **Was there any difference in revenue over time for each of the methods?**\n"
   ]
  },
  {
   "cell_type": "code",
   "execution_count": 17,
   "metadata": {},
   "outputs": [
    {
     "name": "stdout",
     "output_type": "stream",
     "text": [
      "    week  sales_method    revenue  proportion\n",
      "1      1         Email  229765.55        0.18\n",
      "4      2         Email  137794.35        0.11\n",
      "14     5  Email + Call  126809.72        0.10\n",
      "17     6  Email + Call  111152.07        0.08\n",
      "10     4         Email  107788.37        0.08\n",
      "7      3         Email   98792.14        0.08\n",
      "11     4  Email + Call   78296.20        0.06\n",
      "13     5         Email   74373.45        0.06\n",
      "12     5          Call   53518.11        0.04\n",
      "9      4          Call   49543.52        0.04\n",
      "8      3  Email + Call   48737.14        0.04\n",
      "6      3          Call   36247.27        0.03\n",
      "3      2          Call   33792.02        0.03\n",
      "15     6          Call   28252.92        0.02\n",
      "5      2  Email + Call   26376.23        0.02\n",
      "0      1          Call   26159.18        0.02\n",
      "16     6         Email   23706.75        0.02\n",
      "2      1  Email + Call   16885.33        0.01\n"
     ]
    }
   ],
   "source": [
    "#Calculating the revenue over time for each sales method\n",
    "revenue_over_time = df_cleaned.groupby(['week', 'sales_method'])['revenue'].sum()\n",
    "revenue_over_time = revenue_over_time.reset_index()\n",
    "revenue_over_time['proportion'] = round(revenue_over_time['revenue'] / revenue_over_time['revenue'].sum(), 2)\n",
    "#Printing the revenue over time for each sales method sorting by the 'revenue' column in descending order\n",
    "revenue_over_time = revenue_over_time.sort_values(by='revenue', ascending=False)\n",
    "print(revenue_over_time)\n",
    "\n",
    "#saving into a csv file to be used in the visualization part\n",
    "revenue_over_time.to_csv('question_3.csv', index=False)\n"
   ]
  },
  {
   "cell_type": "code",
   "execution_count": 16,
   "metadata": {},
   "outputs": [
    {
     "data": {
      "image/png": "[encoded data removed]",
      "text/plain": [
       "<Figure size 432x288 with 1 Axes>"
      ]
     },
     "metadata": {
      "needs_background": "light"
     },
     "output_type": "display_data"
    }
   ],
   "source": [
    "#ploting the revenue over time for each sales method using a line plot\n",
    "sns.lineplot(data=revenue_over_time, x=\"week\", y=\"revenue\", hue=\"sales_method\")\n",
    "plt.show()"
   ]
  },
  {
   "cell_type": "markdown",
   "metadata": {},
   "source": [
    "We don’t really know if there are other differences between the customers in each group, so\n",
    "anything you can tell us would be really helpful to give some context to what went well."
   ]
  },
  {
   "cell_type": "code",
   "execution_count": 52,
   "metadata": {},
   "outputs": [
    {
     "data": {
      "text/html": [
       "<div>\n",
       "<style scoped>\n",
       "    .dataframe tbody tr th:only-of-type {\n",
       "        vertical-align: middle;\n",
       "    }\n",
       "\n",
       "    .dataframe tbody tr th {\n",
       "        vertical-align: top;\n",
       "    }\n",
       "\n",
       "    .dataframe thead th {\n",
       "        text-align: right;\n",
       "    }\n",
       "</style>\n",
       "<table border=\"1\" class=\"dataframe\">\n",
       "  <thead>\n",
       "    <tr style=\"text-align: right;\">\n",
       "      <th></th>\n",
       "      <th>state</th>\n",
       "      <th>revenue</th>\n",
       "    </tr>\n",
       "  </thead>\n",
       "  <tbody>\n",
       "    <tr>\n",
       "      <th>4</th>\n",
       "      <td>California</td>\n",
       "      <td>160893.20</td>\n",
       "    </tr>\n",
       "    <tr>\n",
       "      <th>42</th>\n",
       "      <td>Texas</td>\n",
       "      <td>106294.45</td>\n",
       "    </tr>\n",
       "    <tr>\n",
       "      <th>31</th>\n",
       "      <td>New York</td>\n",
       "      <td>83242.74</td>\n",
       "    </tr>\n",
       "    <tr>\n",
       "      <th>8</th>\n",
       "      <td>Florida</td>\n",
       "      <td>77651.75</td>\n",
       "    </tr>\n",
       "    <tr>\n",
       "      <th>12</th>\n",
       "      <td>Illinois</td>\n",
       "      <td>52649.35</td>\n",
       "    </tr>\n",
       "    <tr>\n",
       "      <th>37</th>\n",
       "      <td>Pennsylvania</td>\n",
       "      <td>51595.35</td>\n",
       "    </tr>\n",
       "    <tr>\n",
       "      <th>34</th>\n",
       "      <td>Ohio</td>\n",
       "      <td>48010.94</td>\n",
       "    </tr>\n",
       "    <tr>\n",
       "      <th>21</th>\n",
       "      <td>Michigan</td>\n",
       "      <td>44424.81</td>\n",
       "    </tr>\n",
       "    <tr>\n",
       "      <th>9</th>\n",
       "      <td>Georgia</td>\n",
       "      <td>43426.41</td>\n",
       "    </tr>\n",
       "    <tr>\n",
       "      <th>32</th>\n",
       "      <td>North Carolina</td>\n",
       "      <td>38418.15</td>\n",
       "    </tr>\n",
       "  </tbody>\n",
       "</table>\n",
       "</div>"
      ],
      "text/plain": [
       "             state    revenue\n",
       "4       California  160893.20\n",
       "42           Texas  106294.45\n",
       "31        New York   83242.74\n",
       "8          Florida   77651.75\n",
       "12        Illinois   52649.35\n",
       "37    Pennsylvania   51595.35\n",
       "34            Ohio   48010.94\n",
       "21        Michigan   44424.81\n",
       "9          Georgia   43426.41\n",
       "32  North Carolina   38418.15"
      ]
     },
     "execution_count": 52,
     "metadata": {},
     "output_type": "execute_result"
    }
   ],
   "source": [
    "# Grouping the data by 'state' and summing the 'revenue' for each customer\n",
    "customer_revenue = df_clean.groupby('state')['revenue'].sum().reset_index()\n",
    "\n",
    "# Sorting the states by their total revenue contribution in descending order\n",
    "customer_revenue = customer_revenue.sort_values(by='revenue', ascending=False)\n",
    "\n",
    "# Displaying the top 10 states by revenue contribution\n",
    "customer_revenue.head(10)"
   ]
  }
 ],
 "metadata": {
  "kernelspec": {
   "display_name": "base",
   "language": "python",
   "name": "python3"
  },
  "language_info": {
   "codemirror_mode": {
    "name": "ipython",
    "version": 3
   },
   "file_extension": ".py",
   "mimetype": "text/x-python",
   "name": "python",
   "nbconvert_exporter": "python",
   "pygments_lexer": "ipython3",
   "version": "3.8.5"
  }
 },
 "nbformat": 4,
 "nbformat_minor": 2
}
